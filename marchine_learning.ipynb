{
 "cells": [
  {
   "cell_type": "code",
   "execution_count": 1,
   "metadata": {},
   "outputs": [
    {
     "name": "stderr",
     "output_type": "stream",
     "text": [
      "Using TensorFlow backend.\n"
     ]
    }
   ],
   "source": [
    "from keras.datasets import imdb\n",
    "(train_data, train_labels), (test_data, test_labels) = imdb.load_data(num_words=10000)"
   ]
  },
  {
   "cell_type": "code",
   "execution_count": 2,
   "metadata": {},
   "outputs": [
    {
     "data": {
      "text/plain": [
       "\"? this film was just brilliant casting location scenery story direction everyone's really suited the part they played and you could just imagine being there robert ? is an amazing actor and now the same being director ? father came from the same scottish island as myself so i loved the fact there was a real connection with this film the witty remarks throughout the film were great it was just brilliant so much that i bought the film as soon as it was released for ? and would recommend it to everyone to watch and the fly fishing was amazing really cried at the end it was so sad and you know what they say if you cry at a film it must have been good and this definitely was also ? to the two little boy's that played the ? of norman and paul they were just brilliant children are often left out of the ? list i think because the stars that play them all grown up are such a big profile for the whole film but these children are amazing and should be praised for what they have done don't you think the whole story was so lovely because it was true and was someone's life after all that was shared with us all\""
      ]
     },
     "execution_count": 2,
     "metadata": {},
     "output_type": "execute_result"
    }
   ],
   "source": [
    "# word_index 存储的是 imdb 存储的数据的索引 {\"word\": index} 格式的数据\n",
    "word_index = imdb.get_word_index()\n",
    "\n",
    "# 获取到所有的对应关系进行查看\n",
    "# for word, index in word_index.items():\n",
    "#     print(word, index)\n",
    "\n",
    "# 获取 imdb 第一条评论数据的单词索引进行查看\n",
    "# for i in train_data[0]:\n",
    "#     print(i)\n",
    "\n",
    "# 列表生成器 获取 word_index 里面每一个数据的 key 和 value 然后两者位置互换\n",
    "index_word_list = [(value, key) for (key, value) in word_index.items()]\n",
    "\n",
    "# 列表转化为字典\n",
    "index_word_dict = dict(index_word_list)\n",
    "# 把 \" \" 【空格】 作为连接符连接每个 word .i - 3 因为每个 0 1 2 是 padding, start of sequence, unknown 不属于正文的单词\n",
    "sentense = \" \".join(index_word_dict.get(i - 3, \"?\") for i in train_data[0])\n",
    "sentense"
   ]
  },
  {
   "cell_type": "code",
   "execution_count": 3,
   "metadata": {},
   "outputs": [],
   "source": [
    "import numpy as np\n",
    "\n",
    "# # np.zeros() 第一个参数是元组 (10, ) 第一个字符代表的是行, 第二个字符代表的是列, \n",
    "# # 第二个参数指定每个字符的数据类型, 默认的数据类型是浮点型\n",
    "# np.zeros((20, 10))\n",
    "def initial(sequences, dimension=10000):\n",
    "    # 前者表示行，后者表示列\n",
    "    result = np.zeros((len(sequences), dimension))\n",
    "    for i, sequence in enumerate(sequences):\n",
    "        # 浮点数 1. \n",
    "        result[i, sequence] = 1.\n",
    "    return result"
   ]
  },
  {
   "cell_type": "code",
   "execution_count": 7,
   "metadata": {},
   "outputs": [
    {
     "data": {
      "text/plain": [
       "array([1., 0., 0., ..., 0., 1., 0.], dtype=float32)"
      ]
     },
     "execution_count": 7,
     "metadata": {},
     "output_type": "execute_result"
    }
   ],
   "source": [
    "x_train = initial(train_data)\n",
    "x_test = initial(test_data)\n",
    "y_train = np.asarray(train_labels).astype(\"float32\")\n",
    "y_test = np.asarray(test_labels).astype(\"float32\")\n"
   ]
  },
  {
   "cell_type": "code",
   "execution_count": null,
   "metadata": {},
   "outputs": [],
   "source": []
  }
 ],
 "metadata": {
  "kernelspec": {
   "display_name": "Python 3",
   "language": "python",
   "name": "python3"
  },
  "language_info": {
   "codemirror_mode": {
    "name": "ipython",
    "version": 3
   },
   "file_extension": ".py",
   "mimetype": "text/x-python",
   "name": "python",
   "nbconvert_exporter": "python",
   "pygments_lexer": "ipython3",
   "version": "3.6.8"
  }
 },
 "nbformat": 4,
 "nbformat_minor": 2
}
