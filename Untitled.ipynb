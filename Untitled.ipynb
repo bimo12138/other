{
 "cells": [
  {
   "cell_type": "code",
   "execution_count": 49,
   "metadata": {
    "scrolled": true
   },
   "outputs": [],
   "source": [
    "try:\n",
    "    from urllib import request\n",
    "    import json\n",
    "except:\n",
    "    print(\"依赖库未安装！\")\n",
    "    \n",
    "class DailyWords(object):\n",
    "    \n",
    "    def __init__(self):\n",
    "        self.url = \"http://sentence.iciba.com/index.php?c=dailysentence&m=getNewsSentence\"\n",
    "        self.list_container = ['content', 'note', 'url', 'picture']\n",
    "    \n",
    "\n",
    "    def run(self):\n",
    "        with request.urlopen(self.url) as f:\n",
    "            messages = json.loads(f.read())\n",
    "            note = \"\"\n",
    "            if messages['errmsg'] == \"success\":\n",
    "                for j in self.list_container:\n",
    "                    note = note + str(messages['sentence_list'][0][j]) + \"\\n\"\n",
    "                return note\n",
    "\n",
    "            else:\n",
    "                print(\"请求失败！\")\n",
    "        \n",
    "day = DailyWords()"
   ]
  },
  {
   "cell_type": "code",
   "execution_count": 50,
   "metadata": {},
   "outputs": [
    {
     "data": {
      "text/plain": [
       "<ContactList: [<User: {'MemberList': <ContactList: []>, 'UserName': '@f489e85d586d5e89cf2752b53ffe1d9b922d24dd9ef8655855b56ea39c6af1b6', 'City': '', 'DisplayName': '', 'PYQuanPin': '', 'RemarkPYInitial': '', 'Province': '', 'KeyWord': '', 'RemarkName': '', 'PYInitial': '', 'EncryChatRoomId': '', 'Alias': '', 'Signature': '', 'NickName': '清净石', 'RemarkPYQuanPin': '', 'HeadImgUrl': '/cgi-bin/mmwebwx-bin/webwxgeticon?seq=372582350&username=@f489e85d586d5e89cf2752b53ffe1d9b922d24dd9ef8655855b56ea39c6af1b6&skey=@crypt_1808028e_64211d630b4f6ca156c8e0ba77f38863', 'UniFriend': 0, 'Sex': 1, 'AppAccountFlag': 0, 'VerifyFlag': 0, 'ChatRoomId': 0, 'HideInputBarFlag': 0, 'AttrStatus': 0, 'SnsFlag': 1, 'MemberCount': 0, 'OwnerUin': 0, 'ContactFlag': 0, 'Uin': 1895489577, 'StarFriend': 0, 'Statues': 0, 'WebWxPluginSwitch': 0, 'HeadImgFlag': 1}>, <User: {'MemberList': <ContactList: []>, 'Uin': 0, 'UserName': '@94b72e5853801caf12894f2a111cab9d6f2c5f5d72232dba509a14f6f3b69010', 'NickName': '小万君王旭东-折扣码276579', 'HeadImgUrl': '/cgi-bin/mmwebwx-bin/webwxgeticon?seq=703337711&username=@94b72e5853801caf12894f2a111cab9d6f2c5f5d72232dba509a14f6f3b69010&skey=@crypt_1808028e_64211d630b4f6ca156c8e0ba77f38863', 'ContactFlag': 3, 'MemberCount': 0, 'RemarkName': '', 'HideInputBarFlag': 0, 'Sex': 1, 'Signature': '万门官网、APP报名课程输入折扣码276579即可享受万门最低价格', 'VerifyFlag': 0, 'OwnerUin': 0, 'PYInitial': 'XWJWXDSKM276579', 'PYQuanPin': 'xiaowanjunwangxudongshekouma276579', 'RemarkPYInitial': '', 'RemarkPYQuanPin': '', 'StarFriend': 0, 'AppAccountFlag': 0, 'Statues': 0, 'AttrStatus': 233511, 'Province': 'Dubai', 'City': '', 'Alias': '', 'SnsFlag': 1, 'UniFriend': 0, 'DisplayName': '', 'ChatRoomId': 0, 'KeyWord': '', 'EncryChatRoomId': '', 'IsOwner': 0}>, <User: {'MemberList': <ContactList: []>, 'Uin': 0, 'UserName': '@f8e8db1da86a2f3b10d8cc59dc4135bd435941861b6c2c0f0124b019b8387574', 'NickName': '阳光明媚', 'HeadImgUrl': '/cgi-bin/mmwebwx-bin/webwxgeticon?seq=648443295&username=@f8e8db1da86a2f3b10d8cc59dc4135bd435941861b6c2c0f0124b019b8387574&skey=@crypt_1808028e_64211d630b4f6ca156c8e0ba77f38863', 'ContactFlag': 3, 'MemberCount': 0, 'RemarkName': '', 'HideInputBarFlag': 0, 'Sex': 2, 'Signature': '品茶味，知茶韵，悟人生', 'VerifyFlag': 0, 'OwnerUin': 0, 'PYInitial': 'YGMM', 'PYQuanPin': 'yangguangmingmei', 'RemarkPYInitial': '', 'RemarkPYQuanPin': '', 'StarFriend': 0, 'AppAccountFlag': 0, 'Statues': 0, 'AttrStatus': 4133, 'Province': '福建', 'City': '厦门', 'Alias': '', 'SnsFlag': 1, 'UniFriend': 0, 'DisplayName': '', 'ChatRoomId': 0, 'KeyWord': '', 'EncryChatRoomId': '', 'IsOwner': 0}>, <User: {'MemberList': <ContactList: []>, 'Uin': 0, 'UserName': '@754609b76eb4d4121a2f2effc165c393988add7dd8f6bfa87b3ba8785e623049', 'NickName': '十一', 'HeadImgUrl': '/cgi-bin/mmwebwx-bin/webwxgeticon?seq=670252898&username=@754609b76eb4d4121a2f2effc165c393988add7dd8f6bfa87b3ba8785e623049&skey=@crypt_1808028e_64211d630b4f6ca156c8e0ba77f38863', 'ContactFlag': 3, 'MemberCount': 0, 'RemarkName': '', 'HideInputBarFlag': 0, 'Sex': 2, 'Signature': 'Q.', 'VerifyFlag': 0, 'OwnerUin': 0, 'PYInitial': 'SY', 'PYQuanPin': 'shiyi', 'RemarkPYInitial': '', 'RemarkPYQuanPin': '', 'StarFriend': 0, 'AppAccountFlag': 0, 'Statues': 0, 'AttrStatus': 103289, 'Province': '', 'City': '', 'Alias': '', 'SnsFlag': 1, 'UniFriend': 0, 'DisplayName': '', 'ChatRoomId': 0, 'KeyWord': '', 'EncryChatRoomId': '', 'IsOwner': 0}>, <User: {'MemberList': <ContactList: []>, 'Uin': 0, 'UserName': '@feefc15f4fff5ac50d3351b975455e48be23034c89697b904effd596e52a855c', 'NickName': '先游包子', 'HeadImgUrl': '/cgi-bin/mmwebwx-bin/webwxgeticon?seq=671081773&username=@feefc15f4fff5ac50d3351b975455e48be23034c89697b904effd596e52a855c&skey=@crypt_1808028e_64211d630b4f6ca156c8e0ba77f38863', 'ContactFlag': 3, 'MemberCount': 0, 'RemarkName': '', 'HideInputBarFlag': 0, 'Sex': 0, 'Signature': '', 'VerifyFlag': 0, 'OwnerUin': 0, 'PYInitial': 'XYBZ', 'PYQuanPin': 'xianyoubaozi', 'RemarkPYInitial': '', 'RemarkPYQuanPin': '', 'StarFriend': 0, 'AppAccountFlag': 0, 'Statues': 0, 'AttrStatus': 33787941, 'Province': '', 'City': '', 'Alias': '', 'SnsFlag': 0, 'UniFriend': 0, 'DisplayName': '', 'ChatRoomId': 0, 'KeyWord': '', 'EncryChatRoomId': '', 'IsOwner': 0}>, <User: {'MemberList': <ContactList: []>, 'Uin': 0, 'UserName': '@cd553128770fb9f677862f40fc520696e4057729cc149e4b449926da00e55229', 'NickName': '秦红军', 'HeadImgUrl': '/cgi-bin/mmwebwx-bin/webwxgeticon?seq=671075711&username=@cd553128770fb9f677862f40fc520696e4057729cc149e4b449926da00e55229&skey=@crypt_1808028e_64211d630b4f6ca156c8e0ba77f38863', 'ContactFlag': 3, 'MemberCount': 0, 'RemarkName': '秦红军', 'HideInputBarFlag': 0, 'Sex': 1, 'Signature': '', 'VerifyFlag': 0, 'OwnerUin': 0, 'PYInitial': 'QHJ', 'PYQuanPin': 'qinhongjun', 'RemarkPYInitial': 'QHJ', 'RemarkPYQuanPin': 'qinhongjun', 'StarFriend': 0, 'AppAccountFlag': 0, 'Statues': 0, 'AttrStatus': 4133, 'Province': '江苏', 'City': '盐城', 'Alias': '', 'SnsFlag': 17, 'UniFriend': 0, 'DisplayName': '', 'ChatRoomId': 0, 'KeyWord': '', 'EncryChatRoomId': '', 'IsOwner': 0}>, <User: {'MemberList': <ContactList: []>, 'Uin': 0, 'UserName': '@172d3a014272649285073ec232b09a26a7b1b4fd0473d487f3caa0b4b5b23137', 'NickName': '魂殇', 'HeadImgUrl': '/cgi-bin/mmwebwx-bin/webwxgeticon?seq=678635127&username=@172d3a014272649285073ec232b09a26a7b1b4fd0473d487f3caa0b4b5b23137&skey=@crypt_1808028e_64211d630b4f6ca156c8e0ba77f38863', 'ContactFlag': 3, 'MemberCount': 0, 'RemarkName': '', 'HideInputBarFlag': 0, 'Sex': 1, 'Signature': '', 'VerifyFlag': 0, 'OwnerUin': 0, 'PYInitial': 'HS', 'PYQuanPin': 'hunshang', 'RemarkPYInitial': '', 'RemarkPYQuanPin': '', 'StarFriend': 0, 'AppAccountFlag': 0, 'Statues': 0, 'AttrStatus': 4197, 'Province': '山东', 'City': '烟台', 'Alias': '', 'SnsFlag': 0, 'UniFriend': 0, 'DisplayName': '', 'ChatRoomId': 0, 'KeyWord': '', 'EncryChatRoomId': '', 'IsOwner': 0}>, <User: {'MemberList': <ContactList: []>, 'Uin': 0, 'UserName': '@013fcc50f43ebd61e9591017846eb8a7d4a753f67633e3aa3e2132f8633c97e9', 'NickName': 'T-Allen', 'HeadImgUrl': '/cgi-bin/mmwebwx-bin/webwxgeticon?seq=678637350&username=@013fcc50f43ebd61e9591017846eb8a7d4a753f67633e3aa3e2132f8633c97e9&skey=@crypt_1808028e_64211d630b4f6ca156c8e0ba77f38863', 'ContactFlag': 3, 'MemberCount': 0, 'RemarkName': '', 'HideInputBarFlag': 0, 'Sex': 0, 'Signature': '', 'VerifyFlag': 0, 'OwnerUin': 0, 'PYInitial': 'TALLEN', 'PYQuanPin': 'TAllen', 'RemarkPYInitial': '', 'RemarkPYQuanPin': '', 'StarFriend': 0, 'AppAccountFlag': 0, 'Statues': 0, 'AttrStatus': 102437, 'Province': '', 'City': '', 'Alias': '', 'SnsFlag': 1, 'UniFriend': 0, 'DisplayName': '', 'ChatRoomId': 0, 'KeyWord': '', 'EncryChatRoomId': '', 'IsOwner': 0}>, <User: {'MemberList': <ContactList: []>, 'Uin': 0, 'UserName': '@623dfb7f5abc45549865c5ad89d691b2ca9c47c6837f3ad511165c8517328042', 'NickName': '莹莹💗', 'HeadImgUrl': '/cgi-bin/mmwebwx-bin/webwxgeticon?seq=681170104&username=@623dfb7f5abc45549865c5ad89d691b2ca9c47c6837f3ad511165c8517328042&skey=@crypt_1808028e_64211d630b4f6ca156c8e0ba77f38863', 'ContactFlag': 3, 'MemberCount': 0, 'RemarkName': '', 'HideInputBarFlag': 0, 'Sex': 2, 'Signature': '', 'VerifyFlag': 0, 'OwnerUin': 0, 'PYInitial': 'YYSPANCLASSEMOJIEMOJI1F497SPAN', 'PYQuanPin': 'yingyingspanclassemojiemoji1f497span', 'RemarkPYInitial': '', 'RemarkPYQuanPin': '', 'StarFriend': 0, 'AppAccountFlag': 0, 'Statues': 0, 'AttrStatus': 135201, 'Province': '', 'City': '', 'Alias': '', 'SnsFlag': 1, 'UniFriend': 0, 'DisplayName': '', 'ChatRoomId': 0, 'KeyWord': '', 'EncryChatRoomId': '', 'IsOwner': 0}>, <User: {'MemberList': <ContactList: []>, 'Uin': 0, 'UserName': '@46db4ec0e7840a434f84d1f59774b72cd605881f8c388db7bba6248b8f4de06d', 'NickName': '小芳', 'HeadImgUrl': '/cgi-bin/mmwebwx-bin/webwxgeticon?seq=682996154&username=@46db4ec0e7840a434f84d1f59774b72cd605881f8c388db7bba6248b8f4de06d&skey=@crypt_1808028e_64211d630b4f6ca156c8e0ba77f38863', 'ContactFlag': 3, 'MemberCount': 0, 'RemarkName': '', 'HideInputBarFlag': 0, 'Sex': 2, 'Signature': '招淘宝jian职日结80-400  不是微商，不用卖货，多挣多得', 'VerifyFlag': 0, 'OwnerUin': 0, 'PYInitial': 'XF', 'PYQuanPin': 'xiaofang', 'RemarkPYInitial': '', 'RemarkPYQuanPin': '', 'StarFriend': 0, 'AppAccountFlag': 0, 'Statues': 0, 'AttrStatus': 135269, 'Province': '湖南', 'City': '郴州', 'Alias': '', 'SnsFlag': 17, 'UniFriend': 0, 'DisplayName': '', 'ChatRoomId': 0, 'KeyWord': '', 'EncryChatRoomId': '', 'IsOwner': 0}>, <User: {'MemberList': <ContactList: []>, 'Uin': 0, 'UserName': '@4b815019d40d45e2e1a042fcec3ead87bc24d2ee4d5e75c929c8c61388c586b3', 'NickName': '小狮子', 'HeadImgUrl': '/cgi-bin/mmwebwx-bin/webwxgeticon?seq=684960727&username=@4b815019d40d45e2e1a042fcec3ead87bc24d2ee4d5e75c929c8c61388c586b3&skey=@crypt_1808028e_64211d630b4f6ca156c8e0ba77f38863', 'ContactFlag': 3, 'MemberCount': 0, 'RemarkName': '', 'HideInputBarFlag': 0, 'Sex': 2, 'Signature': '', 'VerifyFlag': 0, 'OwnerUin': 0, 'PYInitial': 'XSZ', 'PYQuanPin': 'xiaoshizi', 'RemarkPYInitial': '', 'RemarkPYQuanPin': '', 'StarFriend': 0, 'AppAccountFlag': 0, 'Statues': 0, 'AttrStatus': 233981, 'Province': 'Kowloon City', 'City': '', 'Alias': '', 'SnsFlag': 49, 'UniFriend': 0, 'DisplayName': '', 'ChatRoomId': 0, 'KeyWord': '', 'EncryChatRoomId': '', 'IsOwner': 0}>, <User: {'MemberList': <ContactList: []>, 'Uin': 0, 'UserName': '@287f875064f2998c4f873d6db625f87204760c07c9e28cb81804917ba2e48837', 'NickName': '颜涛', 'HeadImgUrl': '/cgi-bin/mmwebwx-bin/webwxgeticon?seq=684966884&username=@287f875064f2998c4f873d6db625f87204760c07c9e28cb81804917ba2e48837&skey=@crypt_1808028e_64211d630b4f6ca156c8e0ba77f38863', 'ContactFlag': 3, 'MemberCount': 0, 'RemarkName': '颜老颜', 'HideInputBarFlag': 0, 'Sex': 1, 'Signature': '', 'VerifyFlag': 0, 'OwnerUin': 0, 'PYInitial': 'YT', 'PYQuanPin': 'yantao', 'RemarkPYInitial': 'YLY', 'RemarkPYQuanPin': 'yanlaoyan', 'StarFriend': 0, 'AppAccountFlag': 0, 'Statues': 0, 'AttrStatus': 33788709, 'Province': '江苏', 'City': '苏州', 'Alias': '', 'SnsFlag': 1, 'UniFriend': 0, 'DisplayName': '', 'ChatRoomId': 0, 'KeyWord': '', 'EncryChatRoomId': '', 'IsOwner': 0}>, <User: {'MemberList': <ContactList: []>, 'Uin': 0, 'UserName': '@1dc9baeef75253ae50477adc3f0bccb1e5436d36aafc6012fd43ca1a443f2949', 'NickName': '潭州教育VIP学员服务部', 'HeadImgUrl': '/cgi-bin/mmwebwx-bin/webwxgeticon?seq=684968540&username=@1dc9baeef75253ae50477adc3f0bccb1e5436d36aafc6012fd43ca1a443f2949&skey=@crypt_1808028e_64211d630b4f6ca156c8e0ba77f38863', 'ContactFlag': 3, 'MemberCount': 0, 'RemarkName': '', 'HideInputBarFlag': 0, 'Sex': 1, 'Signature': '提供最优质的教学服务体验', 'VerifyFlag': 0, 'OwnerUin': 0, 'PYInitial': 'TZJYVIPXYFWB', 'PYQuanPin': 'tanzhoujiaoyuVIPxueyuanfuwubu', 'RemarkPYInitial': '', 'RemarkPYQuanPin': '', 'StarFriend': 0, 'AppAccountFlag': 0, 'Statues': 0, 'AttrStatus': 233537, 'Province': '湖南', 'City': '长沙', 'Alias': '', 'SnsFlag': 1, 'UniFriend': 0, 'DisplayName': '', 'ChatRoomId': 0, 'KeyWord': '', 'EncryChatRoomId': '', 'IsOwner': 0}>, <User: {'MemberList': <ContactList: []>, 'Uin': 0, 'UserName': '@b3ab7f6b9cf8e8735e6da09456240b5d53b15db350772c8389fdb8a9b6776c61', 'NickName': '北原老师', 'HeadImgUrl': '/cgi-bin/mmwebwx-bin/webwxgeticon?seq=684968529&username=@b3ab7f6b9cf8e8735e6da09456240b5d53b15db350772c8389fdb8a9b6776c61&skey=@crypt_1808028e_64211d630b4f6ca156c8e0ba77f38863', 'ContactFlag': 3, 'MemberCount': 0, 'RemarkName': '', 'HideInputBarFlag': 0, 'Sex': 1, 'Signature': '速学日语社    我是北原', 'VerifyFlag': 0, 'OwnerUin': 0, 'PYInitial': 'BYLS', 'PYQuanPin': 'beiyuanlaoshi', 'RemarkPYInitial': '', 'RemarkPYQuanPin': '', 'StarFriend': 0, 'AppAccountFlag': 0, 'Statues': 0, 'AttrStatus': 102693, 'Province': '湖南', 'City': '长沙', 'Alias': '', 'SnsFlag': 1, 'UniFriend': 0, 'DisplayName': '', 'ChatRoomId': 0, 'KeyWord': '', 'EncryChatRoomId': '', 'IsOwner': 0}>, <User: {'MemberList': <ContactList: []>, 'Uin': 0, 'UserName': '@a9fb2f7e79050b12e2ab9b40c83a7bc550168b4f3c57895f54798af9c515bcbf', 'NickName': '千夜老师', 'HeadImgUrl': '/cgi-bin/mmwebwx-bin/webwxgeticon?seq=684973852&username=@a9fb2f7e79050b12e2ab9b40c83a7bc550168b4f3c57895f54798af9c515bcbf&skey=@crypt_1808028e_64211d630b4f6ca156c8e0ba77f38863', 'ContactFlag': 3, 'MemberCount': 0, 'RemarkName': '', 'HideInputBarFlag': 0, 'Sex': 2, 'Signature': '', 'VerifyFlag': 0, 'OwnerUin': 0, 'PYInitial': 'QYLS', 'PYQuanPin': 'qianyelaoshi', 'RemarkPYInitial': '', 'RemarkPYQuanPin': '', 'StarFriend': 0, 'AppAccountFlag': 0, 'Statues': 0, 'AttrStatus': 102693, 'Province': '', 'City': '', 'Alias': '', 'SnsFlag': 1, 'UniFriend': 0, 'DisplayName': '', 'ChatRoomId': 0, 'KeyWord': '', 'EncryChatRoomId': '', 'IsOwner': 0}>, <User: {'MemberList': <ContactList: []>, 'Uin': 0, 'UserName': '@82f6af28c5b4bfed598f8e1af9580a690138626e6cc17b2b27d0e85f23291a53', 'NickName': 'T咪创始人  小米', 'HeadImgUrl': '/cgi-bin/mmwebwx-bin/webwxgeticon?seq=684974430&username=@82f6af28c5b4bfed598f8e1af9580a690138626e6cc17b2b27d0e85f23291a53&skey=@crypt_1808028e_64211d630b4f6ca156c8e0ba77f38863', 'ContactFlag': 3, 'MemberCount': 0, 'RemarkName': '', 'HideInputBarFlag': 0, 'Sex': 1, 'Signature': '发型私人订制预约电话13887098885', 'VerifyFlag': 0, 'OwnerUin': 0, 'PYInitial': 'TMCSRXM', 'PYQuanPin': 'Tmichuangshirenxiaomi', 'RemarkPYInitial': '', 'RemarkPYQuanPin': '', 'StarFriend': 0, 'AppAccountFlag': 0, 'Statues': 0, 'AttrStatus': 104485, 'Province': '云南', 'City': '昭通', 'Alias': '', 'SnsFlag': 1, 'UniFriend': 0, 'DisplayName': '', 'ChatRoomId': 0, 'KeyWord': '', 'EncryChatRoomId': '', 'IsOwner': 0}>, <User: {'MemberList': <ContactList: []>, 'Uin': 0, 'UserName': '@844d0904300ae0d1194db43fdcf0658e647fa5e9b137f66425158659c44bd032', 'NickName': '小布活动助理', 'HeadImgUrl': '/cgi-bin/mmwebwx-bin/webwxgeticon?seq=684973585&username=@844d0904300ae0d1194db43fdcf0658e647fa5e9b137f66425158659c44bd032&skey=@crypt_1808028e_64211d630b4f6ca156c8e0ba77f38863', 'ContactFlag': 3, 'MemberCount': 0, 'RemarkName': '', 'HideInputBarFlag': 0, 'Sex': 0, 'Signature': '亲，看到回复，没回复就是不在线，在线会立刻回复', 'VerifyFlag': 0, 'OwnerUin': 0, 'PYInitial': 'XBHDZL', 'PYQuanPin': 'xiaobuhuodongzhuli', 'RemarkPYInitial': '', 'RemarkPYQuanPin': '', 'StarFriend': 0, 'AppAccountFlag': 0, 'Statues': 0, 'AttrStatus': 103201, 'Province': '', 'City': '', 'Alias': '', 'SnsFlag': 1, 'UniFriend': 0, 'DisplayName': '', 'ChatRoomId': 0, 'KeyWord': '', 'EncryChatRoomId': '', 'IsOwner': 0}>, <User: {'MemberList': <ContactList: []>, 'Uin': 0, 'UserName': '@e0e55258b3576c4ca8932497c24422ba3cef3afa5346d93ec711edff0c1d5435', 'NickName': '木叶', 'HeadImgUrl': '/cgi-bin/mmwebwx-bin/webwxgeticon?seq=684976015&username=@e0e55258b3576c4ca8932497c24422ba3cef3afa5346d93ec711edff0c1d5435&skey=@crypt_1808028e_64211d630b4f6ca156c8e0ba77f38863', 'ContactFlag': 3, 'MemberCount': 0, 'RemarkName': '', 'HideInputBarFlag': 0, 'Sex': 1, 'Signature': '在最好的年华遇到最好的你。', 'VerifyFlag': 0, 'OwnerUin': 0, 'PYInitial': 'MY', 'PYQuanPin': 'muye', 'RemarkPYInitial': '', 'RemarkPYQuanPin': '', 'StarFriend': 0, 'AppAccountFlag': 0, 'Statues': 0, 'AttrStatus': 33558565, 'Province': '河南', 'City': '濮阳', 'Alias': '', 'SnsFlag': 1, 'UniFriend': 0, 'DisplayName': '', 'ChatRoomId': 0, 'KeyWord': '', 'EncryChatRoomId': '', 'IsOwner': 0}>, <User: {'MemberList': <ContactList: []>, 'Uin': 0, 'UserName': '@6d0a2085ef1ed810cf55e88bbf2fbadb8e2388a46d31e7a5abf0db062460d0b7', 'NickName': '光年', 'HeadImgUrl': '/cgi-bin/mmwebwx-bin/webwxgeticon?seq=684999675&username=@6d0a2085ef1ed810cf55e88bbf2fbadb8e2388a46d31e7a5abf0db062460d0b7&skey=@crypt_1808028e_64211d630b4f6ca156c8e0ba77f38863', 'ContactFlag': 3, 'MemberCount': 0, 'RemarkName': '刘方铧', 'HideInputBarFlag': 0, 'Sex': 1, 'Signature': '', 'VerifyFlag': 0, 'OwnerUin': 0, 'PYInitial': 'GN', 'PYQuanPin': 'guangnian', 'RemarkPYInitial': 'LFH', 'RemarkPYQuanPin': 'liufanghua', 'StarFriend': 0, 'AppAccountFlag': 0, 'Statues': 0, 'AttrStatus': 135525, 'Province': '', 'City': '', 'Alias': '', 'SnsFlag': 1, 'UniFriend': 0, 'DisplayName': '', 'ChatRoomId': 0, 'KeyWord': '', 'EncryChatRoomId': '', 'IsOwner': 0}>, <User: {'MemberList': <ContactList: []>, 'Uin': 0, 'UserName': '@73186fcb795f36216a73f8d6cde79d7f0a6dffcc3c5b09fa6daf7c21ffeaf038', 'NickName': '百度云_小贺', 'HeadImgUrl': '/cgi-bin/mmwebwx-bin/webwxgeticon?seq=685003011&username=@73186fcb795f36216a73f8d6cde79d7f0a6dffcc3c5b09fa6daf7c21ffeaf038&skey=@crypt_1808028e_64211d630b4f6ca156c8e0ba77f38863', 'ContactFlag': 3, 'MemberCount': 0, 'RemarkName': '', 'HideInputBarFlag': 0, 'Sex': 0, 'Signature': '', 'VerifyFlag': 0, 'OwnerUin': 0, 'PYInitial': 'BDYXH', 'PYQuanPin': 'baiduyunxiaohe', 'RemarkPYInitial': '', 'RemarkPYQuanPin': '', 'StarFriend': 0, 'AppAccountFlag': 0, 'Statues': 0, 'AttrStatus': 233509, 'Province': '', 'City': '', 'Alias': '', 'SnsFlag': 1, 'UniFriend': 0, 'DisplayName': '', 'ChatRoomId': 0, 'KeyWord': '', 'EncryChatRoomId': '', 'IsOwner': 0}>, <User: {'MemberList': <ContactList: []>, 'Uin': 0, 'UserName': '@2959c2cb4cbe51d39548349b12cde5434fbcaadbf3e8bbeca6019e4d0dbf2d49', 'NickName': '空白', 'HeadImgUrl': '/cgi-bin/mmwebwx-bin/webwxgeticon?seq=685010514&username=@2959c2cb4cbe51d39548349b12cde5434fbcaadbf3e8bbeca6019e4d0dbf2d49&skey=@crypt_1808028e_64211d630b4f6ca156c8e0ba77f38863', 'ContactFlag': 3, 'MemberCount': 0, 'RemarkName': '', 'HideInputBarFlag': 0, 'Sex': 1, 'Signature': '不想归家', 'VerifyFlag': 0, 'OwnerUin': 0, 'PYInitial': 'KB', 'PYQuanPin': 'kongbai', 'RemarkPYInitial': '', 'RemarkPYQuanPin': '', 'StarFriend': 0, 'AppAccountFlag': 0, 'Statues': 0, 'AttrStatus': 233573, 'Province': '江苏', 'City': '南京', 'Alias': '', 'SnsFlag': 1, 'UniFriend': 0, 'DisplayName': '', 'ChatRoomId': 0, 'KeyWord': '', 'EncryChatRoomId': '', 'IsOwner': 0}>, <User: {'MemberList': <ContactList: []>, 'Uin': 0, 'UserName': '@1671cd77d83dc3837cb59e0d40e7a0cdddcd2918035dc7399d56cb3bb5cd0bfb', 'NickName': '馨', 'HeadImgUrl': '/cgi-bin/mmwebwx-bin/webwxgeticon?seq=684978024&username=@1671cd77d83dc3837cb59e0d40e7a0cdddcd2918035dc7399d56cb3bb5cd0bfb&skey=@crypt_1808028e_64211d630b4f6ca156c8e0ba77f38863', 'ContactFlag': 3, 'MemberCount': 0, 'RemarkName': '', 'HideInputBarFlag': 0, 'Sex': 2, 'Signature': '', 'VerifyFlag': 0, 'OwnerUin': 0, 'PYInitial': 'X', 'PYQuanPin': 'xin', 'RemarkPYInitial': '', 'RemarkPYQuanPin': '', 'StarFriend': 0, 'AppAccountFlag': 0, 'Statues': 0, 'AttrStatus': 233573, 'Province': '江苏', 'City': '盐城', 'Alias': '', 'SnsFlag': 1, 'UniFriend': 0, 'DisplayName': '', 'ChatRoomId': 0, 'KeyWord': '', 'EncryChatRoomId': '', 'IsOwner': 0}>, <User: {'MemberList': <ContactList: []>, 'Uin': 0, 'UserName': '@61ef2044192bb0082856f9626ad998b73f7c934151535f531660587b417370ef', 'NickName': 'LinearPi', 'HeadImgUrl': '/cgi-bin/mmwebwx-bin/webwxgeticon?seq=684976906&username=@61ef2044192bb0082856f9626ad998b73f7c934151535f531660587b417370ef&skey=@crypt_1808028e_64211d630b4f6ca156c8e0ba77f38863', 'ContactFlag': 3, 'MemberCount': 0, 'RemarkName': '', 'HideInputBarFlag': 0, 'Sex': 1, 'Signature': 'Sometimes ever ,Sometimes never.', 'VerifyFlag': 0, 'OwnerUin': 0, 'PYInitial': 'LINEARPI', 'PYQuanPin': 'LinearPi', 'RemarkPYInitial': '', 'RemarkPYQuanPin': '', 'StarFriend': 0, 'AppAccountFlag': 0, 'Statues': 0, 'AttrStatus': 98341, 'Province': '四川', 'City': '成都', 'Alias': '', 'SnsFlag': 17, 'UniFriend': 0, 'DisplayName': '', 'ChatRoomId': 0, 'KeyWord': '', 'EncryChatRoomId': '', 'IsOwner': 0}>, <User: {'MemberList': <ContactList: []>, 'Uin': 0, 'UserName': '@7daedbc5d72130f2188d535b83614420b6e346bbb34a70db7dd446bfd60e7240', 'NickName': '朴华', 'HeadImgUrl': '/cgi-bin/mmwebwx-bin/webwxgeticon?seq=685020844&username=@7daedbc5d72130f2188d535b83614420b6e346bbb34a70db7dd446bfd60e7240&skey=@crypt_1808028e_64211d630b4f6ca156c8e0ba77f38863', 'ContactFlag': 3, 'MemberCount': 0, 'RemarkName': '陈伦', 'HideInputBarFlag': 0, 'Sex': 1, 'Signature': '也许我不配爱任何人\\n      20170608', 'VerifyFlag': 0, 'OwnerUin': 0, 'PYInitial': 'PH', 'PYQuanPin': 'piaohua', 'RemarkPYInitial': 'CL', 'RemarkPYQuanPin': 'chenlun', 'StarFriend': 0, 'AppAccountFlag': 0, 'Statues': 0, 'AttrStatus': 4197, 'Province': '贵州', 'City': '六盘水', 'Alias': '', 'SnsFlag': 1, 'UniFriend': 0, 'DisplayName': '', 'ChatRoomId': 0, 'KeyWord': '', 'EncryChatRoomId': '', 'IsOwner': 0}>, <User: {'MemberList': <ContactList: []>, 'Uin': 0, 'UserName': '@9d5ad6a939ac68436e1145d0b4e57e76f6927863bbcfc06787e8b9d9a515c85a', 'NickName': '不动', 'HeadImgUrl': '/cgi-bin/mmwebwx-bin/webwxgeticon?seq=685021303&username=@9d5ad6a939ac68436e1145d0b4e57e76f6927863bbcfc06787e8b9d9a515c85a&skey=@crypt_1808028e_64211d630b4f6ca156c8e0ba77f38863', 'ContactFlag': 3, 'MemberCount': 0, 'RemarkName': '', 'HideInputBarFlag': 0, 'Sex': 0, 'Signature': '', 'VerifyFlag': 0, 'OwnerUin': 0, 'PYInitial': 'BD', 'PYQuanPin': 'budong', 'RemarkPYInitial': '', 'RemarkPYQuanPin': '', 'StarFriend': 0, 'AppAccountFlag': 0, 'Statues': 0, 'AttrStatus': 102689, 'Province': '', 'City': '', 'Alias': '', 'SnsFlag': 1, 'UniFriend': 0, 'DisplayName': '', 'ChatRoomId': 0, 'KeyWord': '', 'EncryChatRoomId': '', 'IsOwner': 0}>, <User: {'MemberList': <ContactList: []>, 'Uin': 0, 'UserName': '@94ac7bd5b8a0124c227dc45da7daa434c9bfe49f3c01cdc85dbbf32cffec6eb9', 'NickName': 'xxd', 'HeadImgUrl': '/cgi-bin/mmwebwx-bin/webwxgeticon?seq=685028147&username=@94ac7bd5b8a0124c227dc45da7daa434c9bfe49f3c01cdc85dbbf32cffec6eb9&skey=@crypt_1808028e_64211d630b4f6ca156c8e0ba77f38863', 'ContactFlag': 3, 'MemberCount': 0, 'RemarkName': '徐向东', 'HideInputBarFlag': 0, 'Sex': 1, 'Signature': '既然不会飞，那就要用脚去追', 'VerifyFlag': 0, 'OwnerUin': 0, 'PYInitial': 'XXD', 'PYQuanPin': 'xxd', 'RemarkPYInitial': 'XXD', 'RemarkPYQuanPin': 'xuxiangdong', 'StarFriend': 0, 'AppAccountFlag': 0, 'Statues': 0, 'AttrStatus': 4197, 'Province': '贵州', 'City': '安顺', 'Alias': '', 'SnsFlag': 1, 'UniFriend': 0, 'DisplayName': '', 'ChatRoomId': 0, 'KeyWord': '', 'EncryChatRoomId': '', 'IsOwner': 0}>, <User: {'MemberList': <ContactList: []>, 'Uin': 0, 'UserName': '@fa4e0410d6b8cc01377e14931c94b910b45020e9d03f5465e8cedcfba0136a21', 'NickName': '慢慢细雨', 'HeadImgUrl': '/cgi-bin/mmwebwx-bin/webwxgeticon?seq=685028369&username=@fa4e0410d6b8cc01377e14931c94b910b45020e9d03f5465e8cedcfba0136a21&skey=@crypt_1808028e_64211d630b4f6ca156c8e0ba77f38863', 'ContactFlag': 3, 'MemberCount': 0, 'RemarkName': '赵俊铜', 'HideInputBarFlag': 0, 'Sex': 1, 'Signature': '总是想太多', 'VerifyFlag': 0, 'OwnerUin': 0, 'PYInitial': 'MMXY', 'PYQuanPin': 'manmanxiyu', 'RemarkPYInitial': 'ZJT', 'RemarkPYQuanPin': 'zhaojuntong', 'StarFriend': 0, 'AppAccountFlag': 0, 'Statues': 0, 'AttrStatus': 135293, 'Province': 'Vienna', 'City': '', 'Alias': '', 'SnsFlag': 1, 'UniFriend': 0, 'DisplayName': '', 'ChatRoomId': 0, 'KeyWord': '', 'EncryChatRoomId': '', 'IsOwner': 0}>, <User: {'MemberList': <ContactList: []>, 'Uin': 0, 'UserName': '@d5a937e918d5354137f29c9a97c8a85aaadffbbab3be60815c62b5c075beb170', 'NickName': '官方Python客服怡C老师', 'HeadImgUrl': '/cgi-bin/mmwebwx-bin/webwxgeticon?seq=684967936&username=@d5a937e918d5354137f29c9a97c8a85aaadffbbab3be60815c62b5c075beb170&skey=@crypt_1808028e_64211d630b4f6ca156c8e0ba77f38863', 'ContactFlag': 3, 'MemberCount': 0, 'RemarkName': '', 'HideInputBarFlag': 0, 'Sex': 0, 'Signature': '', 'VerifyFlag': 0, 'OwnerUin': 0, 'PYInitial': 'GFPYTHONKFYCLS', 'PYQuanPin': 'guanfangPythonkefuyiClaoshi', 'RemarkPYInitial': '', 'RemarkPYQuanPin': '', 'StarFriend': 0, 'AppAccountFlag': 0, 'Statues': 0, 'AttrStatus': 4133, 'Province': '', 'City': '', 'Alias': '', 'SnsFlag': 1, 'UniFriend': 0, 'DisplayName': '', 'ChatRoomId': 0, 'KeyWord': '', 'EncryChatRoomId': '', 'IsOwner': 0}>, <User: {'MemberList': <ContactList: []>, 'Uin': 0, 'UserName': '@79b725ba26d5eaab3ef41de2e37139abd5cfb3aabbb4afa7a72d99f43ff04dc9', 'NickName': '醒醒老师', 'HeadImgUrl': '/cgi-bin/mmwebwx-bin/webwxgeticon?seq=685021630&username=@79b725ba26d5eaab3ef41de2e37139abd5cfb3aabbb4afa7a72d99f43ff04dc9&skey=@crypt_1808028e_64211d630b4f6ca156c8e0ba77f38863', 'ContactFlag': 3, 'MemberCount': 0, 'RemarkName': '', 'HideInputBarFlag': 0, 'Sex': 2, 'Signature': '', 'VerifyFlag': 0, 'OwnerUin': 0, 'PYInitial': 'XXLS', 'PYQuanPin': 'xingxinglaoshi', 'RemarkPYInitial': '', 'RemarkPYQuanPin': '', 'StarFriend': 0, 'AppAccountFlag': 0, 'Statues': 0, 'AttrStatus': 102585, 'Province': '', 'City': '', 'Alias': '', 'SnsFlag': 1, 'UniFriend': 0, 'DisplayName': '', 'ChatRoomId': 0, 'KeyWord': '', 'EncryChatRoomId': '', 'IsOwner': 0}>, <User: {'MemberList': <ContactList: []>, 'Uin': 0, 'UserName': '@4c66236e4e84dfbd41906217cb7573fe12842481025541246b22cf78cc8a2f46', 'NickName': 'a*幸运', 'HeadImgUrl': '/cgi-bin/mmwebwx-bin/webwxgeticon?seq=685031519&username=@4c66236e4e84dfbd41906217cb7573fe12842481025541246b22cf78cc8a2f46&skey=@crypt_1808028e_64211d630b4f6ca156c8e0ba77f38863', 'ContactFlag': 3, 'MemberCount': 0, 'RemarkName': '喻兴莉', 'HideInputBarFlag': 0, 'Sex': 1, 'Signature': '努力做好一个人', 'VerifyFlag': 0, 'OwnerUin': 0, 'PYInitial': 'AXY', 'PYQuanPin': 'axingyun', 'RemarkPYInitial': 'YXL', 'RemarkPYQuanPin': 'yuxingli', 'StarFriend': 0, 'AppAccountFlag': 0, 'Statues': 0, 'AttrStatus': 4133, 'Province': '贵州', 'City': '', 'Alias': '', 'SnsFlag': 1, 'UniFriend': 0, 'DisplayName': '', 'ChatRoomId': 0, 'KeyWord': '', 'EncryChatRoomId': '', 'IsOwner': 0}>, <User: {'MemberList': <ContactList: []>, 'Uin': 0, 'UserName': '@c137aafb8e7bc5249fdc24fd20be08b613053cb0ded7f0bf466a34b25dca7873', 'NickName': '落花入木', 'HeadImgUrl': '/cgi-bin/mmwebwx-bin/webwxgeticon?seq=685034246&username=@c137aafb8e7bc5249fdc24fd20be08b613053cb0ded7f0bf466a34b25dca7873&skey=@crypt_1808028e_64211d630b4f6ca156c8e0ba77f38863', 'ContactFlag': 3, 'MemberCount': 0, 'RemarkName': '', 'HideInputBarFlag': 0, 'Sex': 1, 'Signature': '', 'VerifyFlag': 0, 'OwnerUin': 0, 'PYInitial': 'LHRM', 'PYQuanPin': 'lahuarumu', 'RemarkPYInitial': '', 'RemarkPYQuanPin': '', 'StarFriend': 0, 'AppAccountFlag': 0, 'Statues': 0, 'AttrStatus': 104549, 'Province': '江苏', 'City': '盐城', 'Alias': '', 'SnsFlag': 1, 'UniFriend': 0, 'DisplayName': '', 'ChatRoomId': 0, 'KeyWord': '', 'EncryChatRoomId': '', 'IsOwner': 0}>, <User: {'MemberList': <ContactList: []>, 'Uin': 0, 'UserName': '@080d5647c9e3256c8ce292d3d51e17f256e52c3b31139fbb7e69237c25985aa6', 'NickName': 'AA小龙装潢18260339963', 'HeadImgUrl': '/cgi-bin/mmwebwx-bin/webwxgeticon?seq=685035694&username=@080d5647c9e3256c8ce292d3d51e17f256e52c3b31139fbb7e69237c25985aa6&skey=@crypt_1808028e_64211d630b4f6ca156c8e0ba77f38863', 'ContactFlag': 3, 'MemberCount': 0, 'RemarkName': '爸', 'HideInputBarFlag': 0, 'Sex': 1, 'Signature': '莫名的烦躁，莫名的累', 'VerifyFlag': 0, 'OwnerUin': 0, 'PYInitial': 'AAXLZH18260339963', 'PYQuanPin': 'AAxiaolongzhuanghuang18260339963', 'RemarkPYInitial': 'B', 'RemarkPYQuanPin': 'ba', 'StarFriend': 0, 'AppAccountFlag': 0, 'Statues': 0, 'AttrStatus': 4445, 'Province': '上海', 'City': '', 'Alias': '', 'SnsFlag': 1, 'UniFriend': 0, 'DisplayName': '', 'ChatRoomId': 0, 'KeyWord': '', 'EncryChatRoomId': '', 'IsOwner': 0}>, <User: {'MemberList': <ContactList: []>, 'Uin': 0, 'UserName': '@77c1aaaabf2ec441503bc72f221a55caf2ebe351d36b1c9b9004305e71347159', 'NickName': '塔卡', 'HeadImgUrl': '/cgi-bin/mmwebwx-bin/webwxgeticon?seq=685039330&username=@77c1aaaabf2ec441503bc72f221a55caf2ebe351d36b1c9b9004305e71347159&skey=@crypt_1808028e_64211d630b4f6ca156c8e0ba77f38863', 'ContactFlag': 3, 'MemberCount': 0, 'RemarkName': '', 'HideInputBarFlag': 0, 'Sex': 2, 'Signature': '', 'VerifyFlag': 0, 'OwnerUin': 0, 'PYInitial': 'TK', 'PYQuanPin': 'taka', 'RemarkPYInitial': '', 'RemarkPYQuanPin': '', 'StarFriend': 0, 'AppAccountFlag': 0, 'Statues': 0, 'AttrStatus': 233573, 'Province': '', 'City': '', 'Alias': '', 'SnsFlag': 1, 'UniFriend': 0, 'DisplayName': '', 'ChatRoomId': 0, 'KeyWord': '', 'EncryChatRoomId': '', 'IsOwner': 0}>, <User: {'MemberList': <ContactList: []>, 'Uin': 0, 'UserName': '@e5da144deab1290e1676b054b397b11b1deb16f48eca1f813527fa36dfa2423d', 'NickName': '箐', 'HeadImgUrl': '/cgi-bin/mmwebwx-bin/webwxgeticon?seq=685041498&username=@e5da144deab1290e1676b054b397b11b1deb16f48eca1f813527fa36dfa2423d&skey=@crypt_1808028e_64211d630b4f6ca156c8e0ba77f38863', 'ContactFlag': 3, 'MemberCount': 0, 'RemarkName': '', 'HideInputBarFlag': 0, 'Sex': 2, 'Signature': '任何对人生的尝试、探索，都应该被尊重。  \\u200b\\u200b\\u200b', 'VerifyFlag': 0, 'OwnerUin': 0, 'PYInitial': 'Q', 'PYQuanPin': 'qing', 'RemarkPYInitial': '', 'RemarkPYQuanPin': '', 'StarFriend': 0, 'AppAccountFlag': 0, 'Statues': 0, 'AttrStatus': 102525, 'Province': '河南', 'City': '郑州', 'Alias': '', 'SnsFlag': 1, 'UniFriend': 0, 'DisplayName': '', 'ChatRoomId': 0, 'KeyWord': '', 'EncryChatRoomId': '', 'IsOwner': 0}>, <User: {'MemberList': <ContactList: []>, 'Uin': 0, 'UserName': '@a1fb88d41e472cdb7c10fd21dd5853290243a041c767005f7a3cd28a7fb0618e', 'NickName': 'Mr.C', 'HeadImgUrl': '/cgi-bin/mmwebwx-bin/webwxgeticon?seq=684999652&username=@a1fb88d41e472cdb7c10fd21dd5853290243a041c767005f7a3cd28a7fb0618e&skey=@crypt_1808028e_64211d630b4f6ca156c8e0ba77f38863', 'ContactFlag': 3, 'MemberCount': 0, 'RemarkName': '陈洋', 'HideInputBarFlag': 0, 'Sex': 1, 'Signature': '人和人的相遇只有一段，你错过我，我错过你，公平。', 'VerifyFlag': 0, 'OwnerUin': 0, 'PYInitial': 'MRC', 'PYQuanPin': 'MrC', 'RemarkPYInitial': 'CY', 'RemarkPYQuanPin': 'chenyang', 'StarFriend': 0, 'AppAccountFlag': 0, 'Statues': 0, 'AttrStatus': 6245, 'Province': '贵州', 'City': '毕节', 'Alias': '', 'SnsFlag': 1, 'UniFriend': 0, 'DisplayName': '', 'ChatRoomId': 0, 'KeyWord': '', 'EncryChatRoomId': '', 'IsOwner': 0}>, <User: {'MemberList': <ContactList: []>, 'Uin': 0, 'UserName': '@dfd5e0c70313b30fcbff52c2637025989d91f8734d89bd7e4335890f8d65483e', 'NickName': '如雪寒冰', 'HeadImgUrl': '/cgi-bin/mmwebwx-bin/webwxgeticon?seq=671075707&username=@dfd5e0c70313b30fcbff52c2637025989d91f8734d89bd7e4335890f8d65483e&skey=@crypt_1808028e_64211d630b4f6ca156c8e0ba77f38863', 'ContactFlag': 3, 'MemberCount': 0, 'RemarkName': '妈', 'HideInputBarFlag': 0, 'Sex': 2, 'Signature': '快乐就好', 'VerifyFlag': 0, 'OwnerUin': 0, 'PYInitial': 'RXHB', 'PYQuanPin': 'ruxuehanbing', 'RemarkPYInitial': 'M', 'RemarkPYQuanPin': 'ma', 'StarFriend': 0, 'AppAccountFlag': 0, 'Statues': 0, 'AttrStatus': 4901, 'Province': '江苏', 'City': '盐城', 'Alias': '', 'SnsFlag': 1, 'UniFriend': 0, 'DisplayName': '', 'ChatRoomId': 0, 'KeyWord': '', 'EncryChatRoomId': '', 'IsOwner': 0}>, <User: {'MemberList': <ContactList: []>, 'Uin': 0, 'UserName': '@0dd193536a1b101da33000ad333e3c2c4c629bfc95d43101889a8ac4e3f42fc5', 'NickName': '楠_style', 'HeadImgUrl': '/cgi-bin/mmwebwx-bin/webwxgeticon?seq=685015836&username=@0dd193536a1b101da33000ad333e3c2c4c629bfc95d43101889a8ac4e3f42fc5&skey=@crypt_1808028e_64211d630b4f6ca156c8e0ba77f38863', 'ContactFlag': 3, 'MemberCount': 0, 'RemarkName': '', 'HideInputBarFlag': 0, 'Sex': 1, 'Signature': '美好的回忆需要回忆，痛苦的经历需要经历，彷徨的人生需要努力。', 'VerifyFlag': 0, 'OwnerUin': 0, 'PYInitial': 'NSTYLE', 'PYQuanPin': 'nanstyle', 'RemarkPYInitial': '', 'RemarkPYQuanPin': '', 'StarFriend': 0, 'AppAccountFlag': 0, 'Statues': 0, 'AttrStatus': 4133, 'Province': '江苏', 'City': '苏州', 'Alias': '', 'SnsFlag': 17, 'UniFriend': 0, 'DisplayName': '', 'ChatRoomId': 0, 'KeyWord': '', 'EncryChatRoomId': '', 'IsOwner': 0}>, <User: {'MemberList': <ContactList: []>, 'Uin': 0, 'UserName': '@ce9afa76515f470ed76e1f2599e1ae8d6c45d25ce6ee10df706deba9daf3fe2c', 'NickName': 'Gavin_coder😘myra', 'HeadImgUrl': '/cgi-bin/mmwebwx-bin/webwxgeticon?seq=685008342&username=@ce9afa76515f470ed76e1f2599e1ae8d6c45d25ce6ee10df706deba9daf3fe2c&skey=@crypt_1808028e_64211d630b4f6ca156c8e0ba77f38863', 'ContactFlag': 3, 'MemberCount': 0, 'RemarkName': '', 'HideInputBarFlag': 0, 'Sex': 1, 'Signature': '十年！这条签名不改——“相信自己！拼下去！”', 'VerifyFlag': 0, 'OwnerUin': 0, 'PYInitial': 'GAVINCODERSPANCLASSEMOJIEMOJI1F63DSPANMYRA', 'PYQuanPin': 'Gavincoderspanclassemojiemoji1f63dspanmyra', 'RemarkPYInitial': '', 'RemarkPYQuanPin': '', 'StarFriend': 0, 'AppAccountFlag': 0, 'Statues': 0, 'AttrStatus': 33790309, 'Province': '江苏', 'City': '南京', 'Alias': '', 'SnsFlag': 1, 'UniFriend': 0, 'DisplayName': '', 'ChatRoomId': 0, 'KeyWord': '', 'EncryChatRoomId': '', 'IsOwner': 0}>, <User: {'MemberList': <ContactList: []>, 'Uin': 0, 'UserName': '@2957c8c2ae652419ac449835204584955ad4321d028c480ccba5ef7e5f9d744f', 'NickName': '导师-敏儿', 'HeadImgUrl': '/cgi-bin/mmwebwx-bin/webwxgeticon?seq=703335757&username=@2957c8c2ae652419ac449835204584955ad4321d028c480ccba5ef7e5f9d744f&skey=@crypt_1808028e_64211d630b4f6ca156c8e0ba77f38863', 'ContactFlag': 3, 'MemberCount': 0, 'RemarkName': '', 'HideInputBarFlag': 0, 'Sex': 0, 'Signature': '很想说句话，不知道说啥', 'VerifyFlag': 0, 'OwnerUin': 0, 'PYInitial': 'DSME', 'PYQuanPin': 'daoshiminer', 'RemarkPYInitial': '', 'RemarkPYQuanPin': '', 'StarFriend': 0, 'AppAccountFlag': 0, 'Statues': 0, 'AttrStatus': 102437, 'Province': '', 'City': '', 'Alias': '', 'SnsFlag': 1, 'UniFriend': 0, 'DisplayName': '', 'ChatRoomId': 0, 'KeyWord': '', 'EncryChatRoomId': '', 'IsOwner': 0}>, <User: {'MemberList': <ContactList: []>, 'Uin': 0, 'UserName': '@d9b96398c232ae45fc21ce1cdda4ea11dcba0f86a47d47beca83ce290d3edad4', 'NickName': '猫舍', 'HeadImgUrl': '/cgi-bin/mmwebwx-bin/webwxgeticon?seq=703336960&username=@d9b96398c232ae45fc21ce1cdda4ea11dcba0f86a47d47beca83ce290d3edad4&skey=@crypt_1808028e_64211d630b4f6ca156c8e0ba77f38863', 'ContactFlag': 3, 'MemberCount': 0, 'RemarkName': '', 'HideInputBarFlag': 0, 'Sex': 2, 'Signature': '喜欢是隔着三千颗树，六百条河的心跳<span class=\"emoji emoji1f49e\"></span>', 'VerifyFlag': 0, 'OwnerUin': 0, 'PYInitial': 'MS', 'PYQuanPin': 'maoshe', 'RemarkPYInitial': '', 'RemarkPYQuanPin': '', 'StarFriend': 0, 'AppAccountFlag': 0, 'Statues': 0, 'AttrStatus': 143461, 'Province': '湖南', 'City': '益阳', 'Alias': '', 'SnsFlag': 1, 'UniFriend': 0, 'DisplayName': '', 'ChatRoomId': 0, 'KeyWord': '', 'EncryChatRoomId': '', 'IsOwner': 0}>, <User: {'MemberList': <ContactList: []>, 'Uin': 0, 'UserName': '@7147ffa8b0efb6de7e44e7ae71c0f1bfd2eeeb6c3c5aeab65012c35edb7fd32e', 'NickName': '珊儿💕💕', 'HeadImgUrl': '/cgi-bin/mmwebwx-bin/webwxgeticon?seq=685005761&username=@7147ffa8b0efb6de7e44e7ae71c0f1bfd2eeeb6c3c5aeab65012c35edb7fd32e&skey=@crypt_1808028e_64211d630b4f6ca156c8e0ba77f38863', 'ContactFlag': 3, 'MemberCount': 0, 'RemarkName': '', 'HideInputBarFlag': 0, 'Sex': 2, 'Signature': '奔跑才能变得更好', 'VerifyFlag': 0, 'OwnerUin': 0, 'PYInitial': 'SESPANCLASSEMOJIEMOJI1F495SPANSPANCLASSEMOJIEMOJI1F495SPAN', 'PYQuanPin': 'shanerspanclassemojiemoji1f495spanspanclassemojiemoji1f495span', 'RemarkPYInitial': '', 'RemarkPYQuanPin': '', 'StarFriend': 0, 'AppAccountFlag': 0, 'Statues': 0, 'AttrStatus': 16782437, 'Province': '贵州', 'City': '', 'Alias': '', 'SnsFlag': 17, 'UniFriend': 0, 'DisplayName': '', 'ChatRoomId': 0, 'KeyWord': '', 'EncryChatRoomId': '', 'IsOwner': 0}>, <User: {'MemberList': <ContactList: []>, 'Uin': 0, 'UserName': '@1e8329b7b691e3f7837faa9f954c5bd1bccac9b493456c85301e1db8c9bc8359', 'NickName': '周颖霜', 'HeadImgUrl': '/cgi-bin/mmwebwx-bin/webwxgeticon?seq=678635255&username=@1e8329b7b691e3f7837faa9f954c5bd1bccac9b493456c85301e1db8c9bc8359&skey=@crypt_1808028e_64211d630b4f6ca156c8e0ba77f38863', 'ContactFlag': 3, 'MemberCount': 0, 'RemarkName': '', 'HideInputBarFlag': 0, 'Sex': 1, 'Signature': '', 'VerifyFlag': 0, 'OwnerUin': 0, 'PYInitial': 'ZYS', 'PYQuanPin': 'zhouyingshuang', 'RemarkPYInitial': '', 'RemarkPYQuanPin': '', 'StarFriend': 0, 'AppAccountFlag': 0, 'Statues': 0, 'AttrStatus': 33788197, 'Province': '江苏', 'City': '盐城', 'Alias': '', 'SnsFlag': 16, 'UniFriend': 0, 'DisplayName': '', 'ChatRoomId': 0, 'KeyWord': '', 'EncryChatRoomId': '', 'IsOwner': 0}>, <User: {'MemberList': <ContactList: []>, 'Uin': 0, 'UserName': '@f1d0c5b56460e3d2718204840c0348f88d8d75aa5350744c7c54cf5d2304f5f4', 'NickName': '焦灼怪', 'HeadImgUrl': '/cgi-bin/mmwebwx-bin/webwxgeticon?seq=685026370&username=@f1d0c5b56460e3d2718204840c0348f88d8d75aa5350744c7c54cf5d2304f5f4&skey=@crypt_1808028e_64211d630b4f6ca156c8e0ba77f38863', 'ContactFlag': 3, 'MemberCount': 0, 'RemarkName': '', 'HideInputBarFlag': 0, 'Sex': 2, 'Signature': '努力考新传，不上安大誓不罢休', 'VerifyFlag': 0, 'OwnerUin': 0, 'PYInitial': 'JZG', 'PYQuanPin': 'jiaozhuoguai', 'RemarkPYInitial': '', 'RemarkPYQuanPin': '', 'StarFriend': 0, 'AppAccountFlag': 0, 'Statues': 0, 'AttrStatus': 104741, 'Province': '江苏', 'City': '南通', 'Alias': '', 'SnsFlag': 1, 'UniFriend': 0, 'DisplayName': '', 'ChatRoomId': 0, 'KeyWord': '', 'EncryChatRoomId': '', 'IsOwner': 0}>, <User: {'MemberList': <ContactList: []>, 'Uin': 0, 'UserName': '@8bea4b3210ff765e467ba1812ec0e366f88eef304b09c7f677e1fc99feb56fc6', 'NickName': '丸子头', 'HeadImgUrl': '/cgi-bin/mmwebwx-bin/webwxgeticon?seq=703340840&username=@8bea4b3210ff765e467ba1812ec0e366f88eef304b09c7f677e1fc99feb56fc6&skey=@crypt_1808028e_64211d630b4f6ca156c8e0ba77f38863', 'ContactFlag': 3, 'MemberCount': 0, 'RemarkName': '吕哲', 'HideInputBarFlag': 0, 'Sex': 1, 'Signature': '', 'VerifyFlag': 0, 'OwnerUin': 0, 'PYInitial': 'WZT', 'PYQuanPin': 'wanzitou', 'RemarkPYInitial': 'LZ', 'RemarkPYQuanPin': 'lvzhe', 'StarFriend': 0, 'AppAccountFlag': 0, 'Statues': 0, 'AttrStatus': 100901, 'Province': '江苏', 'City': '盐城', 'Alias': '', 'SnsFlag': 49, 'UniFriend': 0, 'DisplayName': '', 'ChatRoomId': 0, 'KeyWord': '', 'EncryChatRoomId': '', 'IsOwner': 0}>, <User: {'MemberList': <ContactList: []>, 'Uin': 0, 'UserName': '@4259cc3c09e1caa60fe8e345badac4fe', 'NickName': '贵州乡里乡亲电子商务', 'HeadImgUrl': '/cgi-bin/mmwebwx-bin/webwxgeticon?seq=703340904&username=@4259cc3c09e1caa60fe8e345badac4fe&skey=@crypt_1808028e_64211d630b4f6ca156c8e0ba77f38863', 'ContactFlag': 3, 'MemberCount': 0, 'RemarkName': '', 'HideInputBarFlag': 0, 'Sex': 1, 'Signature': '代购，团购，农产品外销，保险，旅游，教育，法律咨询，中介等等', 'VerifyFlag': 0, 'OwnerUin': 0, 'PYInitial': 'GZXLXQDZSW', 'PYQuanPin': 'guizhouxianglixiangqindianzishangwu', 'RemarkPYInitial': '', 'RemarkPYQuanPin': '', 'StarFriend': 0, 'AppAccountFlag': 0, 'Statues': 0, 'AttrStatus': 2147596903, 'Province': '贵州', 'City': '六盘水', 'Alias': '', 'SnsFlag': 17, 'UniFriend': 0, 'DisplayName': '', 'ChatRoomId': 0, 'KeyWord': 'jas', 'EncryChatRoomId': '', 'IsOwner': 0}>, <User: {'MemberList': <ContactList: []>, 'Uin': 0, 'UserName': '@4c2e5a0b3a07d6f6e6edb139875c2949765182c74889edad4c45546c7776c68c', 'NickName': '🐸', 'HeadImgUrl': '/cgi-bin/mmwebwx-bin/webwxgeticon?seq=703341412&username=@4c2e5a0b3a07d6f6e6edb139875c2949765182c74889edad4c45546c7776c68c&skey=@crypt_1808028e_64211d630b4f6ca156c8e0ba77f38863', 'ContactFlag': 3, 'MemberCount': 0, 'RemarkName': '', 'HideInputBarFlag': 0, 'Sex': 1, 'Signature': '一直都欠一个结局。一个不怎么完美的结尾', 'VerifyFlag': 0, 'OwnerUin': 0, 'PYInitial': 'SPANCLASSEMOJIEMOJI1F438SPAN', 'PYQuanPin': 'spanclassemojiemoji1f438span', 'RemarkPYInitial': '', 'RemarkPYQuanPin': '', 'StarFriend': 0, 'AppAccountFlag': 0, 'Statues': 0, 'AttrStatus': 4197, 'Province': '贵州', 'City': '黔南', 'Alias': '', 'SnsFlag': 1, 'UniFriend': 0, 'DisplayName': '', 'ChatRoomId': 0, 'KeyWord': '', 'EncryChatRoomId': '', 'IsOwner': 0}>, <User: {'MemberList': <ContactList: []>, 'Uin': 0, 'UserName': '@fe79359bbf9dea8b4140afe5562e457d4f7e53aa4310337c55d7867a0e80d2a5', 'NickName': 'Jake SUN', 'HeadImgUrl': '/cgi-bin/mmwebwx-bin/webwxgeticon?seq=703337860&username=@fe79359bbf9dea8b4140afe5562e457d4f7e53aa4310337c55d7867a0e80d2a5&skey=@crypt_1808028e_64211d630b4f6ca156c8e0ba77f38863', 'ContactFlag': 3, 'MemberCount': 0, 'RemarkName': '', 'HideInputBarFlag': 0, 'Sex': 1, 'Signature': '不经一番寒彻骨，怎得梅花扑鼻香！', 'VerifyFlag': 0, 'OwnerUin': 0, 'PYInitial': 'JAKESUN', 'PYQuanPin': 'JakeSUN', 'RemarkPYInitial': '', 'RemarkPYQuanPin': '', 'StarFriend': 0, 'AppAccountFlag': 0, 'Statues': 0, 'AttrStatus': 16781437, 'Province': 'Jakarta Raya', 'City': '', 'Alias': '', 'SnsFlag': 1, 'UniFriend': 0, 'DisplayName': '', 'ChatRoomId': 0, 'KeyWord': '', 'EncryChatRoomId': '', 'IsOwner': 0}>, <User: {'MemberList': <ContactList: []>, 'Uin': 0, 'UserName': '@23562727c9e679a6532e55833830a95c251e72c151e975b7e03e82c7e578a76c', 'NickName': '望星空老师', 'HeadImgUrl': '/cgi-bin/mmwebwx-bin/webwxgeticon?seq=703342451&username=@23562727c9e679a6532e55833830a95c251e72c151e975b7e03e82c7e578a76c&skey=@crypt_1808028e_64211d630b4f6ca156c8e0ba77f38863', 'ContactFlag': 3, 'MemberCount': 0, 'RemarkName': '', 'HideInputBarFlag': 0, 'Sex': 1, 'Signature': '', 'VerifyFlag': 0, 'OwnerUin': 0, 'PYInitial': 'WXKLS', 'PYQuanPin': 'wangxingkonglaoshi', 'RemarkPYInitial': '', 'RemarkPYQuanPin': '', 'StarFriend': 0, 'AppAccountFlag': 0, 'Statues': 0, 'AttrStatus': 233573, 'Province': '湖南', 'City': '长沙', 'Alias': '', 'SnsFlag': 1, 'UniFriend': 0, 'DisplayName': '', 'ChatRoomId': 0, 'KeyWord': '', 'EncryChatRoomId': '', 'IsOwner': 0}>, <User: {'MemberList': <ContactList: []>, 'Uin': 0, 'UserName': '@7796b6d8c13933faf68936bf647135c40f2b957d6ff11b924251ab0a956ad0fa', 'NickName': '缇子', 'HeadImgUrl': '/cgi-bin/mmwebwx-bin/webwxgeticon?seq=703342460&username=@7796b6d8c13933faf68936bf647135c40f2b957d6ff11b924251ab0a956ad0fa&skey=@crypt_1808028e_64211d630b4f6ca156c8e0ba77f38863', 'ContactFlag': 3, 'MemberCount': 0, 'RemarkName': '', 'HideInputBarFlag': 0, 'Sex': 2, 'Signature': '', 'VerifyFlag': 0, 'OwnerUin': 0, 'PYInitial': 'TZ', 'PYQuanPin': 'tizi', 'RemarkPYInitial': '', 'RemarkPYQuanPin': '', 'StarFriend': 0, 'AppAccountFlag': 0, 'Statues': 0, 'AttrStatus': 233765, 'Province': '湖南', 'City': '长沙', 'Alias': '', 'SnsFlag': 1, 'UniFriend': 0, 'DisplayName': '', 'ChatRoomId': 0, 'KeyWord': '', 'EncryChatRoomId': '', 'IsOwner': 0}>, <User: {'MemberList': <ContactList: []>, 'Uin': 0, 'UserName': '@883c07cecb7cab34f0143d0a35def848226ced27838c52592da28c6812e6246e', 'NickName': '无敌大宝', 'HeadImgUrl': '/cgi-bin/mmwebwx-bin/webwxgeticon?seq=703342529&username=@883c07cecb7cab34f0143d0a35def848226ced27838c52592da28c6812e6246e&skey=@crypt_1808028e_64211d630b4f6ca156c8e0ba77f38863', 'ContactFlag': 3, 'MemberCount': 0, 'RemarkName': '', 'HideInputBarFlag': 0, 'Sex': 2, 'Signature': '', 'VerifyFlag': 0, 'OwnerUin': 0, 'PYInitial': 'WDDB', 'PYQuanPin': 'wudidabao', 'RemarkPYInitial': '', 'RemarkPYQuanPin': '', 'StarFriend': 0, 'AppAccountFlag': 0, 'Statues': 0, 'AttrStatus': 16877925, 'Province': '湖南', 'City': '邵阳', 'Alias': '', 'SnsFlag': 49, 'UniFriend': 0, 'DisplayName': '', 'ChatRoomId': 0, 'KeyWord': '', 'EncryChatRoomId': '', 'IsOwner': 0}>, <User: {'MemberList': <ContactList: []>, 'Uin': 0, 'UserName': '@37906d7b3e9524b0c0b76845087e25301e49f6ced6db85c06766a07bdd472a9a', 'NickName': '西柚Teacher', 'HeadImgUrl': '/cgi-bin/mmwebwx-bin/webwxgeticon?seq=703343849&username=@37906d7b3e9524b0c0b76845087e25301e49f6ced6db85c06766a07bdd472a9a&skey=@crypt_1808028e_64211d630b4f6ca156c8e0ba77f38863', 'ContactFlag': 3, 'MemberCount': 0, 'RemarkName': '', 'HideInputBarFlag': 0, 'Sex': 0, 'Signature': '', 'VerifyFlag': 0, 'OwnerUin': 0, 'PYInitial': 'XYTEACHER', 'PYQuanPin': 'xiyouTeacher', 'RemarkPYInitial': '', 'RemarkPYQuanPin': '', 'StarFriend': 0, 'AppAccountFlag': 0, 'Statues': 0, 'AttrStatus': 4133, 'Province': '', 'City': '', 'Alias': '', 'SnsFlag': 1, 'UniFriend': 0, 'DisplayName': '', 'ChatRoomId': 0, 'KeyWord': '', 'EncryChatRoomId': '', 'IsOwner': 0}>, <User: {'MemberList': <ContactList: []>, 'Uin': 0, 'UserName': '@832afb085cc3400efebc9efb53129d12f222d9a07a8142d31316a0c2418f1f71', 'NickName': 'AIer', 'HeadImgUrl': '/cgi-bin/mmwebwx-bin/webwxgeticon?seq=685001899&username=@832afb085cc3400efebc9efb53129d12f222d9a07a8142d31316a0c2418f1f71&skey=@crypt_1808028e_64211d630b4f6ca156c8e0ba77f38863', 'ContactFlag': 3, 'MemberCount': 0, 'RemarkName': '', 'HideInputBarFlag': 0, 'Sex': 1, 'Signature': '', 'VerifyFlag': 0, 'OwnerUin': 0, 'PYInitial': 'AIER', 'PYQuanPin': 'AIer', 'RemarkPYInitial': '', 'RemarkPYQuanPin': '', 'StarFriend': 0, 'AppAccountFlag': 0, 'Statues': 0, 'AttrStatus': 137317, 'Province': '北京', 'City': '丰台', 'Alias': '', 'SnsFlag': 1, 'UniFriend': 0, 'DisplayName': '', 'ChatRoomId': 0, 'KeyWord': '', 'EncryChatRoomId': '', 'IsOwner': 0}>, <User: {'MemberList': <ContactList: []>, 'Uin': 0, 'UserName': '@2a8ec03470c41a25e39925bf428bf1b7af97db19f6b154941edfc4c47da8142f', 'NickName': 'Coly', 'HeadImgUrl': '/cgi-bin/mmwebwx-bin/webwxgeticon?seq=685001468&username=@2a8ec03470c41a25e39925bf428bf1b7af97db19f6b154941edfc4c47da8142f&skey=@crypt_1808028e_64211d630b4f6ca156c8e0ba77f38863', 'ContactFlag': 3, 'MemberCount': 0, 'RemarkName': 'Coly', 'HideInputBarFlag': 0, 'Sex': 2, 'Signature': '', 'VerifyFlag': 0, 'OwnerUin': 0, 'PYInitial': 'COLY', 'PYQuanPin': 'Coly', 'RemarkPYInitial': 'COLY', 'RemarkPYQuanPin': 'Coly', 'StarFriend': 0, 'AppAccountFlag': 0, 'Statues': 0, 'AttrStatus': 102501, 'Province': '湖南', 'City': '长沙', 'Alias': '', 'SnsFlag': 17, 'UniFriend': 0, 'DisplayName': '', 'ChatRoomId': 0, 'KeyWord': '', 'EncryChatRoomId': '', 'IsOwner': 0}>, <User: {'MemberList': <ContactList: []>, 'Uin': 0, 'UserName': '@fb895d24568c72910d602ca95894390603b79e2939059c6dea20d8f57cc0e980', 'NickName': '可里', 'HeadImgUrl': '/cgi-bin/mmwebwx-bin/webwxgeticon?seq=703344097&username=@fb895d24568c72910d602ca95894390603b79e2939059c6dea20d8f57cc0e980&skey=@crypt_1808028e_64211d630b4f6ca156c8e0ba77f38863', 'ContactFlag': 3, 'MemberCount': 0, 'RemarkName': '', 'HideInputBarFlag': 0, 'Sex': 2, 'Signature': '让优秀变成一种习惯QQ1216753355', 'VerifyFlag': 0, 'OwnerUin': 0, 'PYInitial': 'KL', 'PYQuanPin': 'keli', 'RemarkPYInitial': '', 'RemarkPYQuanPin': '', 'StarFriend': 0, 'AppAccountFlag': 0, 'Statues': 0, 'AttrStatus': 104807, 'Province': '湖南', 'City': '长沙', 'Alias': '', 'SnsFlag': 1, 'UniFriend': 0, 'DisplayName': '', 'ChatRoomId': 0, 'KeyWord': '', 'EncryChatRoomId': '', 'IsOwner': 0}>, <User: {'MemberList': <ContactList: []>, 'Uin': 0, 'UserName': '@4c14fec160f04471b1a19e6224a229a6a406296d994535ecfaf1e296793b8936', 'NickName': 'J.', 'HeadImgUrl': '/cgi-bin/mmwebwx-bin/webwxgeticon?seq=703344154&username=@4c14fec160f04471b1a19e6224a229a6a406296d994535ecfaf1e296793b8936&skey=@crypt_1808028e_64211d630b4f6ca156c8e0ba77f38863', 'ContactFlag': 3, 'MemberCount': 0, 'RemarkName': '', 'HideInputBarFlag': 0, 'Sex': 2, 'Signature': '安然若素 岁月静好<span class=\"emoji emoji1f64f\"></span>🏻', 'VerifyFlag': 0, 'OwnerUin': 0, 'PYInitial': 'J', 'PYQuanPin': 'J', 'RemarkPYInitial': '', 'RemarkPYQuanPin': '', 'StarFriend': 0, 'AppAccountFlag': 0, 'Statues': 0, 'AttrStatus': 104893, 'Province': '江苏', 'City': '盐城', 'Alias': '', 'SnsFlag': 129, 'UniFriend': 0, 'DisplayName': '', 'ChatRoomId': 0, 'KeyWord': '', 'EncryChatRoomId': '', 'IsOwner': 0}>, <User: {'MemberList': <ContactList: []>, 'Uin': 0, 'UserName': '@7786e420386f95255d4104bbeaa7e0d0154bd4c7e63d0ed10e39f01e1087c302', 'NickName': '正在缓冲。。。。。', 'HeadImgUrl': '/cgi-bin/mmwebwx-bin/webwxgeticon?seq=684961235&username=@7786e420386f95255d4104bbeaa7e0d0154bd4c7e63d0ed10e39f01e1087c302&skey=@crypt_1808028e_64211d630b4f6ca156c8e0ba77f38863', 'ContactFlag': 3, 'MemberCount': 0, 'RemarkName': '', 'HideInputBarFlag': 0, 'Sex': 0, 'Signature': '大胆一点，主动一点，反正人生就这一次', 'VerifyFlag': 0, 'OwnerUin': 0, 'PYInitial': 'ZZHC', 'PYQuanPin': 'zhengzaihuanchong', 'RemarkPYInitial': '', 'RemarkPYQuanPin': '', 'StarFriend': 0, 'AppAccountFlag': 0, 'Statues': 0, 'AttrStatus': 4197, 'Province': 'East London', 'City': '', 'Alias': '', 'SnsFlag': 0, 'UniFriend': 0, 'DisplayName': '', 'ChatRoomId': 0, 'KeyWord': '', 'EncryChatRoomId': '', 'IsOwner': 0}>, <User: {'MemberList': <ContactList: []>, 'Uin': 0, 'UserName': '@acec9070ba7df57bdb86c0edbdaad4f3f9a1d740e6f6ea1f535b8f867e692406', 'NickName': '小苏苏在这喏', 'HeadImgUrl': '/cgi-bin/mmwebwx-bin/webwxgeticon?seq=703342128&username=@acec9070ba7df57bdb86c0edbdaad4f3f9a1d740e6f6ea1f535b8f867e692406&skey=@crypt_1808028e_64211d630b4f6ca156c8e0ba77f38863', 'ContactFlag': 3, 'MemberCount': 0, 'RemarkName': '', 'HideInputBarFlag': 0, 'Sex': 2, 'Signature': '南柯一梦', 'VerifyFlag': 0, 'OwnerUin': 0, 'PYInitial': 'XSSZZN', 'PYQuanPin': 'xiaosusuzaizhenuo', 'RemarkPYInitial': '', 'RemarkPYQuanPin': '', 'StarFriend': 0, 'AppAccountFlag': 0, 'Statues': 0, 'AttrStatus': 104807, 'Province': '江苏', 'City': '苏州', 'Alias': '', 'SnsFlag': 1, 'UniFriend': 0, 'DisplayName': '', 'ChatRoomId': 0, 'KeyWord': '', 'EncryChatRoomId': '', 'IsOwner': 0}>, <User: {'MemberList': <ContactList: []>, 'Uin': 0, 'UserName': '@85319a1e924160ce24cbae58c27e9ea90e60ffa775b104baba74f64d0ea2586f', 'NickName': '习惯性失眠', 'HeadImgUrl': '/cgi-bin/mmwebwx-bin/webwxgeticon?seq=703344962&username=@85319a1e924160ce24cbae58c27e9ea90e60ffa775b104baba74f64d0ea2586f&skey=@crypt_1808028e_64211d630b4f6ca156c8e0ba77f38863', 'ContactFlag': 3, 'MemberCount': 0, 'RemarkName': '', 'HideInputBarFlag': 0, 'Sex': 1, 'Signature': '错过的再也与你无关', 'VerifyFlag': 0, 'OwnerUin': 0, 'PYInitial': 'XGXSM', 'PYQuanPin': 'xiguanxingshimian', 'RemarkPYInitial': '', 'RemarkPYQuanPin': '', 'StarFriend': 0, 'AppAccountFlag': 0, 'Statues': 0, 'AttrStatus': 4901, 'Province': 'Northern Territory', 'City': 'Palmerston', 'Alias': '', 'SnsFlag': 1, 'UniFriend': 0, 'DisplayName': '', 'ChatRoomId': 0, 'KeyWord': '', 'EncryChatRoomId': '', 'IsOwner': 0}>, <User: {'MemberList': <ContactList: []>, 'Uin': 0, 'UserName': '@125cf804dd01be33fb56bb21780de040fe7268df8def874b2ccdc156ad383afb', 'NickName': '相信自己', 'HeadImgUrl': '/cgi-bin/mmwebwx-bin/webwxgeticon?seq=671081092&username=@125cf804dd01be33fb56bb21780de040fe7268df8def874b2ccdc156ad383afb&skey=@crypt_1808028e_64211d630b4f6ca156c8e0ba77f38863', 'ContactFlag': 3, 'MemberCount': 0, 'RemarkName': '阮煊', 'HideInputBarFlag': 0, 'Sex': 1, 'Signature': '', 'VerifyFlag': 0, 'OwnerUin': 0, 'PYInitial': 'XXZJ', 'PYQuanPin': 'xiangxinziji', 'RemarkPYInitial': 'RX', 'RemarkPYQuanPin': 'ruanxuan', 'StarFriend': 0, 'AppAccountFlag': 0, 'Statues': 0, 'AttrStatus': 4197, 'Province': '', 'City': '', 'Alias': '', 'SnsFlag': 0, 'UniFriend': 0, 'DisplayName': '', 'ChatRoomId': 0, 'KeyWord': '', 'EncryChatRoomId': '', 'IsOwner': 0}>, <User: {'MemberList': <ContactList: []>, 'Uin': 0, 'UserName': '@352b99030fb20a48d70f2990cd398da56348e9466f27f617a677d266b3186a84', 'NickName': '小可爱', 'HeadImgUrl': '/cgi-bin/mmwebwx-bin/webwxgeticon?seq=703344978&username=@352b99030fb20a48d70f2990cd398da56348e9466f27f617a677d266b3186a84&skey=@crypt_1808028e_64211d630b4f6ca156c8e0ba77f38863', 'ContactFlag': 3, 'MemberCount': 0, 'RemarkName': '吴皇万岁万岁万万岁', 'HideInputBarFlag': 0, 'Sex': 2, 'Signature': '', 'VerifyFlag': 0, 'OwnerUin': 0, 'PYInitial': 'XKA', 'PYQuanPin': 'xiaokeai', 'RemarkPYInitial': 'WHWSWSWWS', 'RemarkPYQuanPin': 'wuhuangwansuiwansuiwanwansui', 'StarFriend': 0, 'AppAccountFlag': 0, 'Statues': 0, 'AttrStatus': 233509, 'Province': 'Dubayy', 'City': '', 'Alias': '', 'SnsFlag': 1, 'UniFriend': 0, 'DisplayName': '', 'ChatRoomId': 0, 'KeyWord': '', 'EncryChatRoomId': '', 'IsOwner': 0}>, <User: {'MemberList': <ContactList: []>, 'Uin': 0, 'UserName': '@6aa9f24ec26051b38fb6412a25c05147ebc9eaab146d6c197ef7d02e00189f9b', 'NickName': '韩导', 'HeadImgUrl': '/cgi-bin/mmwebwx-bin/webwxgeticon?seq=703345755&username=@6aa9f24ec26051b38fb6412a25c05147ebc9eaab146d6c197ef7d02e00189f9b&skey=@crypt_1808028e_64211d630b4f6ca156c8e0ba77f38863', 'ContactFlag': 3, 'MemberCount': 0, 'RemarkName': '', 'HideInputBarFlag': 0, 'Sex': 1, 'Signature': '', 'VerifyFlag': 0, 'OwnerUin': 0, 'PYInitial': 'HD', 'PYQuanPin': 'handao', 'RemarkPYInitial': '', 'RemarkPYQuanPin': '', 'StarFriend': 0, 'AppAccountFlag': 0, 'Statues': 0, 'AttrStatus': 33558565, 'Province': '', 'City': '', 'Alias': '', 'SnsFlag': 1, 'UniFriend': 0, 'DisplayName': '', 'ChatRoomId': 0, 'KeyWord': '', 'EncryChatRoomId': '', 'IsOwner': 0}>, <User: {'MemberList': <ContactList: []>, 'Uin': 0, 'UserName': '@ae9044114a08aa448d5711a5056812251b88ede7542043a013595530bb93a295', 'NickName': '万能安宁¹⁸⁵⁷⁰⁷⁴⁷⁵²⁹', 'HeadImgUrl': '/cgi-bin/mmwebwx-bin/webwxgeticon?seq=703344467&username=@ae9044114a08aa448d5711a5056812251b88ede7542043a013595530bb93a295&skey=@crypt_1808028e_64211d630b4f6ca156c8e0ba77f38863', 'ContactFlag': 3, 'MemberCount': 0, 'RemarkName': '', 'HideInputBarFlag': 0, 'Sex': 1, 'Signature': '有问题如不能及时回复请拨打手机185 7074 7529', 'VerifyFlag': 0, 'OwnerUin': 0, 'PYInitial': 'WNAN???????????', 'PYQuanPin': 'wannenganning???????????', 'RemarkPYInitial': '', 'RemarkPYQuanPin': '', 'StarFriend': 0, 'AppAccountFlag': 0, 'Statues': 0, 'AttrStatus': 135525, 'Province': '湖南', 'City': '长沙', 'Alias': '', 'SnsFlag': 1, 'UniFriend': 0, 'DisplayName': '', 'ChatRoomId': 0, 'KeyWord': '', 'EncryChatRoomId': '', 'IsOwner': 0}>, <User: {'MemberList': <ContactList: []>, 'Uin': 0, 'UserName': '@2270f831e64ff1b84d7b82d361bbad0f7f32af47d6d8dd1f01777ac1ca446684', 'NickName': '屁屁（有点忙，慢慢回复）', 'HeadImgUrl': '/cgi-bin/mmwebwx-bin/webwxgeticon?seq=685005974&username=@2270f831e64ff1b84d7b82d361bbad0f7f32af47d6d8dd1f01777ac1ca446684&skey=@crypt_1808028e_64211d630b4f6ca156c8e0ba77f38863', 'ContactFlag': 3, 'MemberCount': 0, 'RemarkName': '', 'HideInputBarFlag': 0, 'Sex': 0, 'Signature': '', 'VerifyFlag': 0, 'OwnerUin': 0, 'PYInitial': 'PPYDMMMHF', 'PYQuanPin': 'pipiyoudianmangmanmanhuifu', 'RemarkPYInitial': '', 'RemarkPYQuanPin': '', 'StarFriend': 0, 'AppAccountFlag': 0, 'Statues': 0, 'AttrStatus': 102437, 'Province': '', 'City': '', 'Alias': '', 'SnsFlag': 1, 'UniFriend': 0, 'DisplayName': '', 'ChatRoomId': 0, 'KeyWord': '', 'EncryChatRoomId': '', 'IsOwner': 0}>, <User: {'MemberList': <ContactList: []>, 'Uin': 0, 'UserName': '@6ff5593f786ef52860debb10af654141d8117495e87cd74d9ad3dd323e1ab444', 'NickName': '木雨', 'HeadImgUrl': '/cgi-bin/mmwebwx-bin/webwxgeticon?seq=703342111&username=@6ff5593f786ef52860debb10af654141d8117495e87cd74d9ad3dd323e1ab444&skey=@crypt_1808028e_64211d630b4f6ca156c8e0ba77f38863', 'ContactFlag': 3, 'MemberCount': 0, 'RemarkName': '', 'HideInputBarFlag': 0, 'Sex': 1, 'Signature': '聪明是一种天赋而善良是一种选择，你的选择决定你是什么样的人。', 'VerifyFlag': 0, 'OwnerUin': 0, 'PYInitial': 'MY', 'PYQuanPin': 'muyu', 'RemarkPYInitial': '', 'RemarkPYQuanPin': '', 'StarFriend': 0, 'AppAccountFlag': 0, 'Statues': 0, 'AttrStatus': 102501, 'Province': '湖南', 'City': '长沙', 'Alias': '', 'SnsFlag': 1, 'UniFriend': 0, 'DisplayName': '', 'ChatRoomId': 0, 'KeyWord': '', 'EncryChatRoomId': '', 'IsOwner': 0}>, <User: {'MemberList': <ContactList: []>, 'Uin': 0, 'UserName': '@e7a4b2465f8f80f0313fe8022012f80c1032b407138522f0da3b1f8beb978d47', 'NickName': 'Buttershame', 'HeadImgUrl': '/cgi-bin/mmwebwx-bin/webwxgeticon?seq=703347082&username=@e7a4b2465f8f80f0313fe8022012f80c1032b407138522f0da3b1f8beb978d47&skey=@crypt_1808028e_64211d630b4f6ca156c8e0ba77f38863', 'ContactFlag': 3, 'MemberCount': 0, 'RemarkName': '', 'HideInputBarFlag': 0, 'Sex': 1, 'Signature': '已有夫人比你漂亮', 'VerifyFlag': 0, 'OwnerUin': 0, 'PYInitial': 'BUTTERSHAME', 'PYQuanPin': 'Buttershame', 'RemarkPYInitial': '', 'RemarkPYQuanPin': '', 'StarFriend': 0, 'AppAccountFlag': 0, 'Statues': 0, 'AttrStatus': 102501, 'Province': '江苏', 'City': '盐城', 'Alias': '', 'SnsFlag': 1, 'UniFriend': 0, 'DisplayName': '', 'ChatRoomId': 0, 'KeyWord': '', 'EncryChatRoomId': '', 'IsOwner': 0}>, <User: {'MemberList': <ContactList: []>, 'Uin': 0, 'UserName': '@56fdaadb8651229e9a2d9b0da0930fdd3085eb3a6f5c77595be53e95225b8aa1', 'NickName': 'GRIT', 'HeadImgUrl': '/cgi-bin/mmwebwx-bin/webwxgeticon?seq=703337288&username=@56fdaadb8651229e9a2d9b0da0930fdd3085eb3a6f5c77595be53e95225b8aa1&skey=@crypt_1808028e_64211d630b4f6ca156c8e0ba77f38863', 'ContactFlag': 3, 'MemberCount': 0, 'RemarkName': '我是肖洋洋', 'HideInputBarFlag': 0, 'Sex': 1, 'Signature': '', 'VerifyFlag': 0, 'OwnerUin': 0, 'PYInitial': 'GRIT', 'PYQuanPin': 'GRIT', 'RemarkPYInitial': 'WSXYY', 'RemarkPYQuanPin': 'woshixiaoyangyang', 'StarFriend': 0, 'AppAccountFlag': 0, 'Statues': 0, 'AttrStatus': 102693, 'Province': '贵州', 'City': '六盘水', 'Alias': '', 'SnsFlag': 1, 'UniFriend': 0, 'DisplayName': '', 'ChatRoomId': 0, 'KeyWord': '', 'EncryChatRoomId': '', 'IsOwner': 0}>, <User: {'MemberList': <ContactList: []>, 'Uin': 0, 'UserName': '@3b774d2af58970a65dad708ff2406f2a8f36e532607e648aab66dd667d9b7682', 'NickName': '肉嘟嘟', 'HeadImgUrl': '/cgi-bin/mmwebwx-bin/webwxgeticon?seq=684994390&username=@3b774d2af58970a65dad708ff2406f2a8f36e532607e648aab66dd667d9b7682&skey=@crypt_1808028e_64211d630b4f6ca156c8e0ba77f38863', 'ContactFlag': 3, 'MemberCount': 0, 'RemarkName': '', 'HideInputBarFlag': 0, 'Sex': 1, 'Signature': '', 'VerifyFlag': 0, 'OwnerUin': 0, 'PYInitial': 'RDD', 'PYQuanPin': 'roududu', 'RemarkPYInitial': '', 'RemarkPYQuanPin': '', 'StarFriend': 0, 'AppAccountFlag': 0, 'Statues': 0, 'AttrStatus': 135269, 'Province': '江苏', 'City': '盐城', 'Alias': '', 'SnsFlag': 1, 'UniFriend': 0, 'DisplayName': '', 'ChatRoomId': 0, 'KeyWord': '', 'EncryChatRoomId': '', 'IsOwner': 0}>, <User: {'MemberList': <ContactList: []>, 'Uin': 0, 'UserName': '@9d4dbbc78ece2248c479532188540bf46cf4941f2778efaa6cb6355fbde24924', 'NickName': '陈生', 'HeadImgUrl': '/cgi-bin/mmwebwx-bin/webwxgeticon?seq=703347223&username=@9d4dbbc78ece2248c479532188540bf46cf4941f2778efaa6cb6355fbde24924&skey=@crypt_1808028e_64211d630b4f6ca156c8e0ba77f38863', 'ContactFlag': 3, 'MemberCount': 0, 'RemarkName': '', 'HideInputBarFlag': 0, 'Sex': 1, 'Signature': '', 'VerifyFlag': 0, 'OwnerUin': 0, 'PYInitial': 'CS', 'PYQuanPin': 'chensheng', 'RemarkPYInitial': '', 'RemarkPYQuanPin': '', 'StarFriend': 0, 'AppAccountFlag': 0, 'Statues': 0, 'AttrStatus': 233573, 'Province': '江苏', 'City': '盐城', 'Alias': '', 'SnsFlag': 1, 'UniFriend': 0, 'DisplayName': '', 'ChatRoomId': 0, 'KeyWord': '', 'EncryChatRoomId': '', 'IsOwner': 0}>, <User: {'MemberList': <ContactList: []>, 'Uin': 0, 'UserName': '@7bf8148ec053378c53f575db1df256c434e906f604db3bed35867a9a163eb5a9', 'NickName': '空山', 'HeadImgUrl': '/cgi-bin/mmwebwx-bin/webwxgeticon?seq=703335467&username=@7bf8148ec053378c53f575db1df256c434e906f604db3bed35867a9a163eb5a9&skey=@crypt_1808028e_64211d630b4f6ca156c8e0ba77f38863', 'ContactFlag': 3, 'MemberCount': 0, 'RemarkName': '', 'HideInputBarFlag': 0, 'Sex': 1, 'Signature': '', 'VerifyFlag': 0, 'OwnerUin': 0, 'PYInitial': 'KS', 'PYQuanPin': 'kongshan', 'RemarkPYInitial': '', 'RemarkPYQuanPin': '', 'StarFriend': 0, 'AppAccountFlag': 0, 'Statues': 0, 'AttrStatus': 233509, 'Province': '湖南', 'City': '长沙', 'Alias': '', 'SnsFlag': 1, 'UniFriend': 0, 'DisplayName': '', 'ChatRoomId': 0, 'KeyWord': '', 'EncryChatRoomId': '', 'IsOwner': 0}>, <User: {'MemberList': <ContactList: []>, 'Uin': 0, 'UserName': '@5ecadbecd26442a2ac49d1d5443b93789f8c2bd6270872185190ab163cca675d', 'NickName': '苏苏的月月💋', 'HeadImgUrl': '/cgi-bin/mmwebwx-bin/webwxgeticon?seq=703347620&username=@5ecadbecd26442a2ac49d1d5443b93789f8c2bd6270872185190ab163cca675d&skey=@crypt_1808028e_64211d630b4f6ca156c8e0ba77f38863', 'ContactFlag': 3, 'MemberCount': 0, 'RemarkName': '', 'HideInputBarFlag': 0, 'Sex': 2, 'Signature': '我要的是 不管三七二十一  无条件 站在我身边的人', 'VerifyFlag': 0, 'OwnerUin': 0, 'PYInitial': 'SSDYYSPANCLASSEMOJIEMOJI1F48BSPAN', 'PYQuanPin': 'susudeyueyuespanclassemojiemoji1f48bspan', 'RemarkPYInitial': '', 'RemarkPYQuanPin': '', 'StarFriend': 0, 'AppAccountFlag': 0, 'Statues': 0, 'AttrStatus': 4197, 'Province': 'Paris', 'City': '', 'Alias': '', 'SnsFlag': 1, 'UniFriend': 0, 'DisplayName': '', 'ChatRoomId': 0, 'KeyWord': '', 'EncryChatRoomId': '', 'IsOwner': 0}>, <User: {'MemberList': <ContactList: []>, 'Uin': 0, 'UserName': '@5dfc343d9078e0ba3e423cc29e09511f2a014b33664964d4a1f3a6b914382149', 'NickName': '月明', 'HeadImgUrl': '/cgi-bin/mmwebwx-bin/webwxgeticon?seq=703347690&username=@5dfc343d9078e0ba3e423cc29e09511f2a014b33664964d4a1f3a6b914382149&skey=@crypt_1808028e_64211d630b4f6ca156c8e0ba77f38863', 'ContactFlag': 3, 'MemberCount': 0, 'RemarkName': '杨应明', 'HideInputBarFlag': 0, 'Sex': 1, 'Signature': '', 'VerifyFlag': 0, 'OwnerUin': 0, 'PYInitial': 'YM', 'PYQuanPin': 'yueming', 'RemarkPYInitial': 'YYM', 'RemarkPYQuanPin': 'yangyingming', 'StarFriend': 0, 'AppAccountFlag': 0, 'Statues': 0, 'AttrStatus': 135205, 'Province': '', 'City': '', 'Alias': '', 'SnsFlag': 1, 'UniFriend': 0, 'DisplayName': '', 'ChatRoomId': 0, 'KeyWord': '', 'EncryChatRoomId': '', 'IsOwner': 0}>, <User: {'MemberList': <ContactList: []>, 'Uin': 0, 'UserName': '@d02c26aad14befe66840e85c18ce429d83a7a7f71fdfa35d990ab6ffe98dfd16', 'NickName': '大数据小妃', 'HeadImgUrl': '/cgi-bin/mmwebwx-bin/webwxgeticon?seq=703347751&username=@d02c26aad14befe66840e85c18ce429d83a7a7f71fdfa35d990ab6ffe98dfd16&skey=@crypt_1808028e_64211d630b4f6ca156c8e0ba77f38863', 'ContactFlag': 3, 'MemberCount': 0, 'RemarkName': '', 'HideInputBarFlag': 0, 'Sex': 2, 'Signature': '未来的你一定感谢现在拼命学习的自己！', 'VerifyFlag': 0, 'OwnerUin': 0, 'PYInitial': 'DSJXF', 'PYQuanPin': 'dashujuxiaofei', 'RemarkPYInitial': '', 'RemarkPYQuanPin': '', 'StarFriend': 0, 'AppAccountFlag': 0, 'Statues': 0, 'AttrStatus': 4135, 'Province': '北京', 'City': '海淀', 'Alias': '', 'SnsFlag': 1, 'UniFriend': 0, 'DisplayName': '', 'ChatRoomId': 0, 'KeyWord': '', 'EncryChatRoomId': '', 'IsOwner': 0}>, <User: {'MemberList': <ContactList: []>, 'Uin': 0, 'UserName': '@7d4e41e3564af908405aacf8c7fc8085d41e261fc3c65deb6de2219a0c1a81dc', 'NickName': '顾喜瞳', 'HeadImgUrl': '/cgi-bin/mmwebwx-bin/webwxgeticon?seq=703347829&username=@7d4e41e3564af908405aacf8c7fc8085d41e261fc3c65deb6de2219a0c1a81dc&skey=@crypt_1808028e_64211d630b4f6ca156c8e0ba77f38863', 'ContactFlag': 3, 'MemberCount': 0, 'RemarkName': '', 'HideInputBarFlag': 0, 'Sex': 2, 'Signature': '到现在为止，仍然自卑着。', 'VerifyFlag': 0, 'OwnerUin': 0, 'PYInitial': 'GXT', 'PYQuanPin': 'guxitong', 'RemarkPYInitial': '', 'RemarkPYQuanPin': '', 'StarFriend': 0, 'AppAccountFlag': 0, 'Statues': 0, 'AttrStatus': 6245, 'Province': '江苏', 'City': '盐城', 'Alias': '', 'SnsFlag': 1, 'UniFriend': 0, 'DisplayName': '', 'ChatRoomId': 0, 'KeyWord': '', 'EncryChatRoomId': '', 'IsOwner': 0}>, <User: {'MemberList': <ContactList: []>, 'Uin': 0, 'UserName': '@91fc79f38666458acabff5f3738dac59aa0b2989895bc14fc2c400a50da3de7d', 'NickName': 'བསིལ་སྤྲིན།', 'HeadImgUrl': '/cgi-bin/mmwebwx-bin/webwxgeticon?seq=703347860&username=@91fc79f38666458acabff5f3738dac59aa0b2989895bc14fc2c400a50da3de7d&skey=@crypt_1808028e_64211d630b4f6ca156c8e0ba77f38863', 'ContactFlag': 3, 'MemberCount': 0, 'RemarkName': '', 'HideInputBarFlag': 0, 'Sex': 1, 'Signature': 'བསམ་གཞིག་དང་རང་དབང་།', 'VerifyFlag': 0, 'OwnerUin': 0, 'PYInitial': '???????????', 'PYQuanPin': '???????????', 'RemarkPYInitial': '', 'RemarkPYQuanPin': '', 'StarFriend': 0, 'AppAccountFlag': 0, 'Statues': 0, 'AttrStatus': 230181, 'Province': '四川', 'City': '阿坝', 'Alias': '', 'SnsFlag': 1, 'UniFriend': 0, 'DisplayName': '', 'ChatRoomId': 0, 'KeyWord': '', 'EncryChatRoomId': '', 'IsOwner': 0}>, <User: {'MemberList': <ContactList: []>, 'Uin': 0, 'UserName': '@130f8997ee5e7c7ac4f5331ffc7a87ccbbcfdd5d723f8a19b6fd8658b8e48ad4', 'NickName': 'Maverick', 'HeadImgUrl': '/cgi-bin/mmwebwx-bin/webwxgeticon?seq=703348117&username=@130f8997ee5e7c7ac4f5331ffc7a87ccbbcfdd5d723f8a19b6fd8658b8e48ad4&skey=@crypt_1808028e_64211d630b4f6ca156c8e0ba77f38863', 'ContactFlag': 3, 'MemberCount': 0, 'RemarkName': '', 'HideInputBarFlag': 0, 'Sex': 1, 'Signature': 'The Next Day Is Always A New Day.', 'VerifyFlag': 0, 'OwnerUin': 0, 'PYInitial': 'MAVERICK', 'PYQuanPin': 'Maverick', 'RemarkPYInitial': '', 'RemarkPYQuanPin': '', 'StarFriend': 0, 'AppAccountFlag': 0, 'Statues': 0, 'AttrStatus': 110693, 'Province': '江苏', 'City': '常州', 'Alias': '', 'SnsFlag': 17, 'UniFriend': 0, 'DisplayName': '', 'ChatRoomId': 0, 'KeyWord': '', 'EncryChatRoomId': '', 'IsOwner': 0}>, <User: {'MemberList': <ContactList: []>, 'Uin': 0, 'UserName': '@08263335b41bd73847f202178f2e8a12', 'NickName': 'Danny老师', 'HeadImgUrl': '/cgi-bin/mmwebwx-bin/webwxgeticon?seq=703348156&username=@08263335b41bd73847f202178f2e8a12&skey=@crypt_1808028e_64211d630b4f6ca156c8e0ba77f38863', 'ContactFlag': 3, 'MemberCount': 0, 'RemarkName': '', 'HideInputBarFlag': 0, 'Sex': 1, 'Signature': '帅是不需要理由的', 'VerifyFlag': 0, 'OwnerUin': 0, 'PYInitial': 'DANNYLS', 'PYQuanPin': 'Dannylaoshi', 'RemarkPYInitial': '', 'RemarkPYQuanPin': '', 'StarFriend': 0, 'AppAccountFlag': 0, 'Statues': 0, 'AttrStatus': 98407, 'Province': '湖南', 'City': '长沙', 'Alias': '', 'SnsFlag': 49, 'UniFriend': 0, 'DisplayName': '', 'ChatRoomId': 0, 'KeyWord': 'jia', 'EncryChatRoomId': '', 'IsOwner': 0}>, <User: {'MemberList': <ContactList: []>, 'Uin': 0, 'UserName': '@e5b8fa09057dfd55b545cd675ed7103dfc772a3b3112a07667d95ac9eefe3dfe', 'NickName': '潭州vip课程监督（1）14:00-23:00', 'HeadImgUrl': '/cgi-bin/mmwebwx-bin/webwxgeticon?seq=703348158&username=@e5b8fa09057dfd55b545cd675ed7103dfc772a3b3112a07667d95ac9eefe3dfe&skey=@crypt_1808028e_64211d630b4f6ca156c8e0ba77f38863', 'ContactFlag': 3, 'MemberCount': 0, 'RemarkName': '潭州vip课程监督（1）', 'HideInputBarFlag': 0, 'Sex': 0, 'Signature': '', 'VerifyFlag': 0, 'OwnerUin': 0, 'PYInitial': 'TZVIPKCJD114002300', 'PYQuanPin': 'tanzhouvipkechengjiandu114002300', 'RemarkPYInitial': 'TZVIPKCJD1', 'RemarkPYQuanPin': 'tanzhouvipkechengjiandu1', 'StarFriend': 0, 'AppAccountFlag': 0, 'Statues': 0, 'AttrStatus': 135205, 'Province': '', 'City': '', 'Alias': '', 'SnsFlag': 1, 'UniFriend': 0, 'DisplayName': '', 'ChatRoomId': 0, 'KeyWord': '', 'EncryChatRoomId': '', 'IsOwner': 0}>, <User: {'MemberList': <ContactList: []>, 'Uin': 0, 'UserName': '@a5e87f3f0f6d5ab8476c9bad9d20fdfea3e6b914ff5f9f7ffd2b74d6bd4e0ee6', 'NickName': '墨染', 'HeadImgUrl': '/cgi-bin/mmwebwx-bin/webwxgeticon?seq=703348161&username=@a5e87f3f0f6d5ab8476c9bad9d20fdfea3e6b914ff5f9f7ffd2b74d6bd4e0ee6&skey=@crypt_1808028e_64211d630b4f6ca156c8e0ba77f38863', 'ContactFlag': 3, 'MemberCount': 0, 'RemarkName': '', 'HideInputBarFlag': 0, 'Sex': 0, 'Signature': '可我又不能阻止你奔向比我更好的人吧', 'VerifyFlag': 0, 'OwnerUin': 0, 'PYInitial': 'MR', 'PYQuanPin': 'moran', 'RemarkPYInitial': '', 'RemarkPYQuanPin': '', 'StarFriend': 0, 'AppAccountFlag': 0, 'Statues': 0, 'AttrStatus': 4133, 'Province': '', 'City': '', 'Alias': '', 'SnsFlag': 1, 'UniFriend': 0, 'DisplayName': '', 'ChatRoomId': 0, 'KeyWord': '', 'EncryChatRoomId': '', 'IsOwner': 0}>, <User: {'MemberList': <ContactList: []>, 'Uin': 0, 'UserName': '@d941a766e1e1aba13a04607fc09ed12bfa738bc5e7e7b85f68e5d6758c7c2989', 'NickName': '潭州Python老师', 'HeadImgUrl': '/cgi-bin/mmwebwx-bin/webwxgeticon?seq=703348164&username=@d941a766e1e1aba13a04607fc09ed12bfa738bc5e7e7b85f68e5d6758c7c2989&skey=@crypt_1808028e_64211d630b4f6ca156c8e0ba77f38863', 'ContactFlag': 3, 'MemberCount': 0, 'RemarkName': '', 'HideInputBarFlag': 0, 'Sex': 2, 'Signature': '人生苦短  我用Python', 'VerifyFlag': 0, 'OwnerUin': 0, 'PYInitial': 'TZPYTHONLS', 'PYQuanPin': 'tanzhouPythonlaoshi', 'RemarkPYInitial': '', 'RemarkPYQuanPin': '', 'StarFriend': 0, 'AppAccountFlag': 0, 'Statues': 0, 'AttrStatus': 135269, 'Province': '湖南', 'City': '长沙', 'Alias': '', 'SnsFlag': 1, 'UniFriend': 0, 'DisplayName': '', 'ChatRoomId': 0, 'KeyWord': '', 'EncryChatRoomId': '', 'IsOwner': 0}>, <User: {'MemberList': <ContactList: []>, 'Uin': 0, 'UserName': '@8a38a39ebc781f470e5b28c8d72f3d50b831e240a8c4a3a7ce8178de67c190d7', 'NickName': '关忆北  上班时间：13：30-23：00', 'HeadImgUrl': '/cgi-bin/mmwebwx-bin/webwxgeticon?seq=703348178&username=@8a38a39ebc781f470e5b28c8d72f3d50b831e240a8c4a3a7ce8178de67c190d7&skey=@crypt_1808028e_64211d630b4f6ca156c8e0ba77f38863', 'ContactFlag': 3, 'MemberCount': 0, 'RemarkName': '', 'HideInputBarFlag': 0, 'Sex': 0, 'Signature': '上班时间:每周一到周六下午1:00到5:00--6:30到11:00有事请留言！', 'VerifyFlag': 0, 'OwnerUin': 0, 'PYInitial': 'GYBSBSJ13302300', 'PYQuanPin': 'guanyibeishangbanshijian13302300', 'RemarkPYInitial': '', 'RemarkPYQuanPin': '', 'StarFriend': 0, 'AppAccountFlag': 0, 'Statues': 0, 'AttrStatus': 233573, 'Province': '湖南', 'City': '长沙', 'Alias': '', 'SnsFlag': 1, 'UniFriend': 0, 'DisplayName': '', 'ChatRoomId': 0, 'KeyWord': '', 'EncryChatRoomId': '', 'IsOwner': 0}>, <User: {'MemberList': <ContactList: []>, 'Uin': 0, 'UserName': '@feb4075bb651524041240ba74ac68be90efe223ba78b7275f3ccd5799e70aeb7', 'NickName': '青檬呀🔆周日休息', 'HeadImgUrl': '/cgi-bin/mmwebwx-bin/webwxgeticon?seq=703347538&username=@feb4075bb651524041240ba74ac68be90efe223ba78b7275f3ccd5799e70aeb7&skey=@crypt_1808028e_64211d630b4f6ca156c8e0ba77f38863', 'ContactFlag': 3, 'MemberCount': 0, 'RemarkName': '', 'HideInputBarFlag': 0, 'Sex': 2, 'Signature': '老师上班时间是周一至周六下午2:00到5:00，晚上6:30到11:00哦', 'VerifyFlag': 0, 'OwnerUin': 0, 'PYInitial': 'QMY?ZRXX', 'PYQuanPin': 'qingmengya?zhourixiuxi', 'RemarkPYInitial': '', 'RemarkPYQuanPin': '', 'StarFriend': 0, 'AppAccountFlag': 0, 'Statues': 0, 'AttrStatus': 135205, 'Province': '', 'City': '', 'Alias': '', 'SnsFlag': 1, 'UniFriend': 0, 'DisplayName': '', 'ChatRoomId': 0, 'KeyWord': '', 'EncryChatRoomId': '', 'IsOwner': 0}>, <User: {'MemberList': <ContactList: []>, 'Uin': 0, 'UserName': '@2ecb37fe75f49121140180124f16be75c0bb6d2643923b9189bdf61bf5bf1df2', 'NickName': 'Leonardo', 'HeadImgUrl': '/cgi-bin/mmwebwx-bin/webwxgeticon?seq=703348291&username=@2ecb37fe75f49121140180124f16be75c0bb6d2643923b9189bdf61bf5bf1df2&skey=@crypt_1808028e_64211d630b4f6ca156c8e0ba77f38863', 'ContactFlag': 3, 'MemberCount': 0, 'RemarkName': '', 'HideInputBarFlag': 0, 'Sex': 2, 'Signature': '人的温柔和容忍本来就是定量的，必须留给配得上的人。', 'VerifyFlag': 0, 'OwnerUin': 0, 'PYInitial': 'LEONARDO', 'PYQuanPin': 'Leonardo', 'RemarkPYInitial': '', 'RemarkPYQuanPin': '', 'StarFriend': 0, 'AppAccountFlag': 0, 'Statues': 0, 'AttrStatus': 4197, 'Province': '贵州', 'City': '', 'Alias': '', 'SnsFlag': 1, 'UniFriend': 0, 'DisplayName': '', 'ChatRoomId': 0, 'KeyWord': '', 'EncryChatRoomId': '', 'IsOwner': 0}>, <User: {'MemberList': <ContactList: []>, 'Uin': 0, 'UserName': '@1efd0e1dde4c14a8cf8adbc12be1b495caa9887a1c79337e510a88c74028180f', 'NickName': '。', 'HeadImgUrl': '/cgi-bin/mmwebwx-bin/webwxgeticon?seq=703348215&username=@1efd0e1dde4c14a8cf8adbc12be1b495caa9887a1c79337e510a88c74028180f&skey=@crypt_1808028e_64211d630b4f6ca156c8e0ba77f38863', 'ContactFlag': 3, 'MemberCount': 0, 'RemarkName': '韩旺', 'HideInputBarFlag': 0, 'Sex': 1, 'Signature': '。。。', 'VerifyFlag': 0, 'OwnerUin': 0, 'PYInitial': '', 'PYQuanPin': '', 'RemarkPYInitial': 'HW', 'RemarkPYQuanPin': 'hanwang', 'StarFriend': 0, 'AppAccountFlag': 0, 'Statues': 0, 'AttrStatus': 4197, 'Province': '贵州', 'City': '', 'Alias': '', 'SnsFlag': 1, 'UniFriend': 0, 'DisplayName': '', 'ChatRoomId': 0, 'KeyWord': '', 'EncryChatRoomId': '', 'IsOwner': 0}>, <User: {'MemberList': <ContactList: []>, 'Uin': 0, 'UserName': '@afd50a5445337f02b0186400544a7d4955210beac6922035fed78aca33823d5e', 'NickName': '💋', 'HeadImgUrl': '/cgi-bin/mmwebwx-bin/webwxgeticon?seq=703347449&username=@afd50a5445337f02b0186400544a7d4955210beac6922035fed78aca33823d5e&skey=@crypt_1808028e_64211d630b4f6ca156c8e0ba77f38863', 'ContactFlag': 3, 'MemberCount': 0, 'RemarkName': '', 'HideInputBarFlag': 0, 'Sex': 2, 'Signature': '富强 民主 文明 和谐 自由 平等 公平 法治 爱国 敬业 诚信 友善', 'VerifyFlag': 0, 'OwnerUin': 0, 'PYInitial': 'SPANCLASSEMOJIEMOJI1F48BSPAN', 'PYQuanPin': 'spanclassemojiemoji1f48bspan', 'RemarkPYInitial': '', 'RemarkPYQuanPin': '', 'StarFriend': 0, 'AppAccountFlag': 0, 'Statues': 0, 'AttrStatus': 100709, 'Province': '湖南', 'City': '长沙', 'Alias': '', 'SnsFlag': 1, 'UniFriend': 0, 'DisplayName': '', 'ChatRoomId': 0, 'KeyWord': '', 'EncryChatRoomId': '', 'IsOwner': 0}>, <User: {'MemberList': <ContactList: []>, 'Uin': 0, 'UserName': '@9fe711b0c0b5129e7729374b8fa4317729692ce7900dc7dfcaeae8dd139a1486', 'NickName': '周成', 'HeadImgUrl': '/cgi-bin/mmwebwx-bin/webwxgeticon?seq=703348334&username=@9fe711b0c0b5129e7729374b8fa4317729692ce7900dc7dfcaeae8dd139a1486&skey=@crypt_1808028e_64211d630b4f6ca156c8e0ba77f38863', 'ContactFlag': 3, 'MemberCount': 0, 'RemarkName': '', 'HideInputBarFlag': 0, 'Sex': 1, 'Signature': '我不要阳光', 'VerifyFlag': 0, 'OwnerUin': 0, 'PYInitial': 'ZC', 'PYQuanPin': 'zhoucheng', 'RemarkPYInitial': '', 'RemarkPYQuanPin': '', 'StarFriend': 0, 'AppAccountFlag': 0, 'Statues': 0, 'AttrStatus': 33656869, 'Province': '', 'City': '', 'Alias': '', 'SnsFlag': 17, 'UniFriend': 0, 'DisplayName': '', 'ChatRoomId': 0, 'KeyWord': '', 'EncryChatRoomId': '', 'IsOwner': 0}>, <User: {'MemberList': <ContactList: []>, 'Uin': 0, 'UserName': '@76ab46d3650279089662e1360eb215c96d200955a65d3a863776e3e906e5fccc', 'NickName': '💧 随心行', 'HeadImgUrl': '/cgi-bin/mmwebwx-bin/webwxgeticon?seq=703347623&username=@76ab46d3650279089662e1360eb215c96d200955a65d3a863776e3e906e5fccc&skey=@crypt_1808028e_64211d630b4f6ca156c8e0ba77f38863', 'ContactFlag': 3, 'MemberCount': 0, 'RemarkName': '周欢', 'HideInputBarFlag': 0, 'Sex': 2, 'Signature': '不能天生丽质，那就天生励志', 'VerifyFlag': 0, 'OwnerUin': 0, 'PYInitial': 'SPANCLASSEMOJIEMOJI1F4A7SPANSXX', 'PYQuanPin': 'spanclassemojiemoji1f4a7spansuixinxing', 'RemarkPYInitial': 'ZH', 'RemarkPYQuanPin': 'zhouhuan', 'StarFriend': 0, 'AppAccountFlag': 0, 'Statues': 0, 'AttrStatus': 4133, 'Province': '贵州', 'City': '', 'Alias': '', 'SnsFlag': 1, 'UniFriend': 0, 'DisplayName': '', 'ChatRoomId': 0, 'KeyWord': '', 'EncryChatRoomId': '', 'IsOwner': 0}>, <User: {'MemberList': <ContactList: []>, 'Uin': 0, 'UserName': '@99c062cf0552abc8f59963b22649cf089847b03f5f0388f54a9a658867e91374', 'NickName': '秋冯不逢时', 'HeadImgUrl': '/cgi-bin/mmwebwx-bin/webwxgeticon?seq=703346914&username=@99c062cf0552abc8f59963b22649cf089847b03f5f0388f54a9a658867e91374&skey=@crypt_1808028e_64211d630b4f6ca156c8e0ba77f38863', 'ContactFlag': 3, 'MemberCount': 0, 'RemarkName': '', 'HideInputBarFlag': 0, 'Sex': 2, 'Signature': '信管在读  努力跨考城规  不上华工誓不罢休', 'VerifyFlag': 0, 'OwnerUin': 0, 'PYInitial': 'QFBFS', 'PYQuanPin': 'qiufengbufengshi', 'RemarkPYInitial': '', 'RemarkPYQuanPin': '', 'StarFriend': 0, 'AppAccountFlag': 0, 'Statues': 0, 'AttrStatus': 102845, 'Province': '江苏', 'City': '南通', 'Alias': '', 'SnsFlag': 1, 'UniFriend': 0, 'DisplayName': '', 'ChatRoomId': 0, 'KeyWord': '', 'EncryChatRoomId': '', 'IsOwner': 0}>, <User: {'MemberList': <ContactList: []>, 'Uin': 0, 'UserName': '@f458d28342f008a257c5983c47d0619737066af399a0e73d43d73a16c00125fa', 'NickName': '甪夭', 'HeadImgUrl': '/cgi-bin/mmwebwx-bin/webwxgeticon?seq=703348601&username=@f458d28342f008a257c5983c47d0619737066af399a0e73d43d73a16c00125fa&skey=@crypt_1808028e_64211d630b4f6ca156c8e0ba77f38863', 'ContactFlag': 3, 'MemberCount': 0, 'RemarkName': '吴林', 'HideInputBarFlag': 0, 'Sex': 2, 'Signature': '水逆结束', 'VerifyFlag': 0, 'OwnerUin': 0, 'PYInitial': 'LW', 'PYQuanPin': 'luwai', 'RemarkPYInitial': 'WL', 'RemarkPYQuanPin': 'wulin', 'StarFriend': 0, 'AppAccountFlag': 0, 'Statues': 0, 'AttrStatus': 102949, 'Province': 'Jiangsu', 'City': 'Taizhou', 'Alias': '', 'SnsFlag': 1, 'UniFriend': 0, 'DisplayName': '', 'ChatRoomId': 0, 'KeyWord': '', 'EncryChatRoomId': '', 'IsOwner': 0, 'HeadImgUpdateFlag': 1, 'ContactType': 0, 'ChatRoomOwner': ''}>, <User: {'MemberList': <ContactList: []>, 'Uin': 0, 'UserName': '@99cb5eb658d56a5e030b5ba6256e563bddaeff3a33306348c7ea8efbfa618a0a', 'NickName': '脸红鹿啊', 'HeadImgUrl': '/cgi-bin/mmwebwx-bin/webwxgeticon?seq=703346953&username=@99cb5eb658d56a5e030b5ba6256e563bddaeff3a33306348c7ea8efbfa618a0a&skey=@crypt_1808028e_64211d630b4f6ca156c8e0ba77f38863', 'ContactFlag': 3, 'MemberCount': 0, 'RemarkName': '', 'HideInputBarFlag': 0, 'Sex': 2, 'Signature': '看 该得不到的 还是得不到\\U0001f97a', 'VerifyFlag': 0, 'OwnerUin': 0, 'PYInitial': 'LHLA', 'PYQuanPin': 'lianhonglua', 'RemarkPYInitial': '', 'RemarkPYQuanPin': '', 'StarFriend': 0, 'AppAccountFlag': 0, 'Statues': 0, 'AttrStatus': 102565, 'Province': '河南', 'City': '郑州', 'Alias': '', 'SnsFlag': 17, 'UniFriend': 0, 'DisplayName': '', 'ChatRoomId': 0, 'KeyWord': '', 'EncryChatRoomId': '', 'IsOwner': 0}>]>"
      ]
     },
     "execution_count": 50,
     "metadata": {},
     "output_type": "execute_result"
    }
   ],
   "source": [
    "import itchat\n",
    "itchat.auto_login(hotReload=True)\n",
    "itchat.get_friends()"
   ]
  },
  {
   "cell_type": "code",
   "execution_count": 52,
   "metadata": {
    "scrolled": false
   },
   "outputs": [
    {
     "data": {
      "text/plain": [
       "<ItchatReturnValue: {'BaseResponse': {'Ret': 0, 'ErrMsg': '请求成功', 'RawMsg': '请求成功'}, 'MsgID': '5268304653992073851', 'LocalID': '15626704674575'}>"
      ]
     },
     "execution_count": 52,
     "metadata": {},
     "output_type": "execute_result"
    }
   ],
   "source": [
    "import itchat\n",
    "\n",
    "msg = day.run()\n",
    "itchat.auto_login(hotReload=True)\n",
    "liuy = itchat.search_friends(nickName=\"相信自己\")[0]\n",
    "\n",
    "liuy.send(msg)"
   ]
  },
  {
   "cell_type": "code",
   "execution_count": 42,
   "metadata": {
    "scrolled": true
   },
   "outputs": [
    {
     "name": "stdout",
     "output_type": "stream",
     "text": [
      "清净石\n",
      "小万君王旭东-折扣码276579\n",
      "阳光明媚\n",
      "十一\n",
      "先游包子\n",
      "秦红军\n",
      "魂殇\n",
      "T-Allen\n",
      "莹莹💗\n",
      "小芳\n",
      "小狮子\n",
      "颜涛\n",
      "潭州教育VIP学员服务部\n",
      "北原老师\n",
      "千夜老师\n",
      "T咪创始人  小米\n",
      "小布活动助理\n",
      "木叶\n",
      "光年\n",
      "百度云_小贺\n",
      "空白\n",
      "馨\n",
      "LinearPi\n",
      "朴华\n",
      "不动\n",
      "xxd\n",
      "慢慢细雨\n",
      "官方Python客服怡C老师\n",
      "醒醒老师\n",
      "a*幸运\n",
      "落花入木\n",
      "AA小龙装潢18260339963\n",
      "塔卡\n",
      "箐\n",
      "Mr.C\n",
      "如雪寒冰\n",
      "楠_style\n",
      "Gavin_coder😘myra\n",
      "导师-敏儿\n",
      "猫舍\n",
      "珊儿💕💕\n",
      "周颖霜\n",
      "焦灼怪\n",
      "丸子头\n",
      "贵州乡里乡亲电子商务\n",
      "🐸\n",
      "Jake SUN\n",
      "望星空老师\n",
      "缇子\n",
      "无敌大宝\n",
      "西柚Teacher\n",
      "AIer\n",
      "Coly\n",
      "可里\n",
      "J.\n",
      "正在缓冲。。。。。\n",
      "小苏苏在这喏\n",
      "习惯性失眠\n",
      "相信自己\n",
      "小可爱\n",
      "韩导\n",
      "万能安宁¹⁸⁵⁷⁰⁷⁴⁷⁵²⁹\n",
      "屁屁（有点忙，慢慢回复）\n",
      "木雨\n",
      "Buttershame\n",
      "GRIT\n",
      "肉嘟嘟\n",
      "陈生\n",
      "空山\n",
      "苏苏的月月💋\n",
      "月明\n",
      "大数据小妃\n",
      "顾喜瞳\n",
      "བསིལ་སྤྲིན།\n",
      "Maverick\n",
      "Danny老师\n",
      "潭州vip课程监督（1）14:00-23:00\n",
      "墨染\n",
      "潭州Python老师\n",
      "关忆北  上班时间：13：30-23：00\n",
      "青檬呀🔆周日休息\n",
      "Leonardo\n",
      "。\n",
      "💋\n",
      "周成\n",
      "💧 随心行\n",
      "秋冯不逢时\n",
      "甪夭\n",
      "脸红鹿啊\n"
     ]
    }
   ],
   "source": [
    "for i in itchat.get_friends():\n",
    "    print(i['NickName'])"
   ]
  },
  {
   "cell_type": "code",
   "execution_count": 13,
   "metadata": {},
   "outputs": [
    {
     "data": {
      "text/plain": [
       "<User: {'MemberList': <ContactList: []>, 'Uin': 0, 'UserName': '@f1d0c5b56460e3d2718204840c0348f88d8d75aa5350744c7c54cf5d2304f5f4', 'NickName': '焦灼怪', 'HeadImgUrl': '/cgi-bin/mmwebwx-bin/webwxgeticon?seq=685026370&username=@f1d0c5b56460e3d2718204840c0348f88d8d75aa5350744c7c54cf5d2304f5f4&skey=@crypt_1808028e_64211d630b4f6ca156c8e0ba77f38863', 'ContactFlag': 3, 'MemberCount': 0, 'RemarkName': '', 'HideInputBarFlag': 0, 'Sex': 2, 'Signature': '努力考新传，不上安大誓不罢休', 'VerifyFlag': 0, 'OwnerUin': 0, 'PYInitial': 'JZG', 'PYQuanPin': 'jiaozhuoguai', 'RemarkPYInitial': '', 'RemarkPYQuanPin': '', 'StarFriend': 0, 'AppAccountFlag': 0, 'Statues': 0, 'AttrStatus': 104741, 'Province': '江苏', 'City': '南通', 'Alias': '', 'SnsFlag': 1, 'UniFriend': 0, 'DisplayName': '', 'ChatRoomId': 0, 'KeyWord': '', 'EncryChatRoomId': '', 'IsOwner': 0}>"
      ]
     },
     "execution_count": 13,
     "metadata": {},
     "output_type": "execute_result"
    }
   ],
   "source": [
    "itchat.search_friends(name=\"焦灼怪\")[0]"
   ]
  },
  {
   "cell_type": "code",
   "execution_count": 18,
   "metadata": {},
   "outputs": [
    {
     "data": {
      "text/plain": [
       "<ItchatReturnValue: {'BaseResponse': {'Ret': 1204, 'ErrMsg': '', 'RawMsg': ''}, 'MsgID': '', 'LocalID': ''}>"
      ]
     },
     "execution_count": 18,
     "metadata": {},
     "output_type": "execute_result"
    }
   ],
   "source": [
    "itchat.send(\"123\")"
   ]
  },
  {
   "cell_type": "code",
   "execution_count": 1,
   "metadata": {},
   "outputs": [
    {
     "name": "stdout",
     "output_type": "stream",
     "text": [
      "{'status': 'ok', 'totalResults': 30, 'articles': [{'source': {'id': None, 'name': 'Sina.com.cn'}, 'author': '海外网', 'title': '俄一架载234人客机紧急迫降:遭鸟击23人受伤(图) - 新浪网', 'description': '俄一架载234人客机紧急迫降:遭鸟击 23人受伤(图)', 'url': 'https://news.sina.com.cn/w/2019-08-15/doc-ihytcern1033873.shtml', 'urlToImage': 'http://n.sinaimg.cn/spider20190815/137/w600h337/20190815/c68f-ichcymv4976905.jpg', 'publishedAt': '2019-08-15T07:35:53Z', 'content': None}, {'source': {'id': 'xinhua-net', 'name': 'Xinhua Net'}, 'author': None, 'title': '美国费城枪击案一名枪手被捕 - 新华网', 'description': '美国费城枪击案一名枪手被捕\\r\\n---美国东部宾夕法尼亚州费城14日发生枪击案，造成6名警察受伤，一名枪手在与警方对峙约7小时后被捕。', 'url': 'http://www.xinhuanet.com/world/2019-08/15/c_1124879911.htm', 'urlToImage': None, 'publishedAt': '2019-08-15T07:34:41Z', 'content': None}, {'source': {'id': 'xinhua-net', 'name': 'Xinhua Net'}, 'author': None, 'title': '《求是》杂志发表习近平总书记重要文章《在解决“两不愁三保障”突出问题座谈会上的讲话》 - 新华网', 'description': '《求是》杂志发表习近平总书记重要文章<br />《在解决“两不愁三保障”突出问题座谈会上的讲话》-新华网', 'url': 'http://www.xinhuanet.com/politics/2019-08/15/c_1124879769.htm', 'urlToImage': None, 'publishedAt': '2019-08-15T07:00:59Z', 'content': '010020020110000000000000011113261124879769'}, {'source': {'id': None, 'name': 'Rednet.cn'}, 'author': '胡弋', 'title': '摩登兄弟演唱会首次媒体探班惊喜舞台倾力准备_演出要闻_娱乐频道 - 红网', 'description': '昨晚，即将于8月17日、8月18日在北京凯迪拉克中心热情开唱的摩登兄弟首次开放媒体探班，摩登兄弟主唱刘宇宁与乐队成员正在进行紧张的排练，为即将到来的演唱会做冲刺准备。', 'url': 'https://ent.rednet.cn/content/2019/08/15/5814333.html', 'urlToImage': None, 'publishedAt': '2019-08-15T06:46:31Z', 'content': ':\\r\\n815 814817818\\r\\n1910live\\r\\n5EP2Live'}, {'source': {'id': None, 'name': 'Sina.com.cn'}, 'author': '新京报', 'title': '服化道再精致，也掩盖不了于正的《烈火军校》是烂剧 - 新浪网', 'description': '服化道再精致，也掩盖不了于正的《烈火军校》是烂剧', 'url': 'https://news.sina.com.cn/c/2019-08-15/doc-ihytcitm9377037.shtml', 'urlToImage': 'http://n.sinaimg.cn/sinacn20190815s/64/w1024h640/20190815/4347-ichcymv4675813.jpg', 'publishedAt': '2019-08-15T06:26:46Z', 'content': None}, {'source': {'id': None, 'name': '66wz.com'}, 'author': None, 'title': '加拿大道德专员确认特鲁多在SNC—兰万灵集团公司案件中违法 - 温州网', 'description': '温州网 - 温州市的网上新闻发布中心、公众信息服务中心和对外宣传的窗口。融新闻、论坛、博客、微博、资讯、财经房产、时尚娱乐、旅游远足、教育培训、短信服务、免费邮箱、互动直播、在线多媒体点播等各类信息和功能于一体。', 'url': 'http://news.66wz.com/system/2019/08/15/105186652.shtml', 'urlToImage': '', 'publishedAt': '2019-08-15T06:09:55Z', 'content': None}, {'source': {'id': None, 'name': 'Chinanews.com'}, 'author': 'chinanews', 'title': '粤籍“剑客”赴港执教21载：逐梦趁年华仗剑走天涯-中新网 - 中国新闻网', 'description': '受访者供图\\u3000\\u3000赴港执教距今已有21年的时间，郑兆康见证了香港击剑运动从业余到半专业、再到专业的发展过程。', 'url': 'http://www.chinanews.com/ty/2019/08-15/8927515.shtml', 'urlToImage': None, 'publishedAt': '2019-08-15T06:08:25Z', 'content': '815 21 \\r\\n1019861990198819921988111992157\\r\\n199419982011\\r\\n21\\r\\n4\\r\\n20114\\r\\n46\\r\\n202019\\r\\n2018\\r\\n()'}, {'source': {'id': None, 'name': 'Nen.com.cn'}, 'author': None, 'title': '足协杯？争取打赢国安再说 - 东北新闻网', 'description': '', 'url': 'http://liaoning.nen.com.cn/system/2019/08/15/020910922.shtml', 'urlToImage': None, 'publishedAt': '2019-08-15T04:42:00Z', 'content': ''}, {'source': {'id': None, 'name': 'Gxnews.com.cn'}, 'author': None, 'title': '林述巍变省钱能者判若两人秦海璐:震撼我中餐厅 - 桂龙新闻网', 'description': '����Ρ�ڳ��вɹ��й�������8��15��Ѷһ���ڲ����б����š������á�ζ���á�ԭ�������Ρ����ǰ���ڽ�Ŀ�������������������俪�����������������ҵļ縺�ƹ��й���ʳ���ε�����Ρ�Ӳ���\\u05fc�����ڿ�ʼ�������š����ܴպϡ���ԭ���������г������ҵ�������', 'url': 'http://www.gxnews.com.cn/staticpages/20190815/newgx5d54d5d5-18591535.shtml', 'urlToImage': None, 'publishedAt': '2019-08-15T03:47:00Z', 'content': None}, {'source': {'id': 'xinhua-net', 'name': 'Xinhua Net'}, 'author': None, 'title': '为外卖小哥再戴一顶“安全帽” - 新华网', 'description': '为外卖小哥再戴一顶“安全帽”\\r\\n---近日，在辽宁省抚顺市交警部门举行的快递业、餐饮业配送人员安全小课堂上，民警生动的讲解让外卖小哥们印象深刻。', 'url': 'http://www.xinhuanet.com/fortune/2019-08/15/c_1124879186.htm', 'urlToImage': None, 'publishedAt': '2019-08-15T03:44:09Z', 'content': None}, {'source': {'id': None, 'name': 'Chinanews.com'}, 'author': 'chinanews', 'title': '旧金山举办活动纪念第七个世界“慰安妇”纪念日-中新网 - 中国新闻网', 'description': '(记者 刘关关)8月14日是第七个世界“慰安妇”纪念日，美国民间组织将一座“慰安妇”雕像搬到旧金山市中心，向过往行人讲述“慰安妇”的历史，敦促日本', 'url': 'http://www.chinanews.com/gj/2019/08-15/8927399.shtml', 'urlToImage': None, 'publishedAt': '2019-08-15T03:40:30Z', 'content': None}, {'source': {'id': 'the-new-york-times', 'name': 'The New York Times'}, 'author': None, 'title': '机场暴力事件和混乱给香港经济蒙上新阴影 - 纽约时报中文网', 'description': '机场的混乱威胁到香港便捷可靠的交通，令原本已紧张不安的经济雪上加霜。预测者大幅下调了对经济增长的预期，企业和富豪已在重新权衡自己在香港的未来。', 'url': 'https://cn.nytimes.com/china/20190815/hong-kong-economy-airport-protests/', 'urlToImage': 'https://static01.nyt.com/images/2019/08/14/world/14hkeconomy1/merlin_159228129_b47d19fc-3067-460d-802b-0cd0911f1a55-articleLarge.jpg', 'publishedAt': '2019-08-15T02:37:00Z', 'content': None}, {'source': {'id': None, 'name': 'Bjnews.com.cn'}, 'author': None, 'title': '隔夜美股大幅收跌周边股市低开走弱 - 新京报', 'description': None, 'url': 'http://www.bjnews.com.cn/finance/2019/08/15/615568.html', 'urlToImage': None, 'publishedAt': '2019-08-15T02:30:47Z', 'content': None}, {'source': {'id': None, 'name': 'Hljnews.cn'}, 'author': None, 'title': '群雁高飞头雁领（今日谈） | 黑龙江新闻网 - 黑龙江新闻网', 'description': '黑龙江新闻网隶属于黑龙江日报报业集团，依托于集团所属的黑龙江日报、生活报、黑龙江经济报、老年日报、黑龙江晨报、农村报、家庭保健报等十几个平面媒体的阵容庞大的采编队伍，第一时间发布黑龙江新闻，是黑龙江省最具权威的新闻网站。', 'url': 'http://www.hljnews.cn/article/362/124097.html', 'urlToImage': None, 'publishedAt': '2019-08-15T02:27:09Z', 'content': None}, {'source': {'id': None, 'name': 'Sina.com.cn'}, 'author': '新浪游戏', 'title': '《逆转裁判123》确定8月22日更新官中 - 新浪网', 'description': '《逆转裁判123》确定8月22日更新官中,逆转裁判', 'url': 'http://games.sina.com.cn/2019-08-15/doc-ihytcitm9307977.shtml', 'urlToImage': None, 'publishedAt': '2019-08-15T02:00:54Z', 'content': '815Twitter123822 1700 1600SteamXbox oneSwitch\\r\\n123PS4/NS/Xbox One/Steam822 1700////\\r\\n227123812314\\r\\n123Steam76497%162'}, {'source': {'id': None, 'name': 'People.com.cn'}, 'author': '103921', 'title': '人民网评：纪念“8·15”，不容历史“默默隐去”--观点--人民网 - 人民网', 'description': '“日本投降矣！”74年前的今天，神州奏凯、举国欢腾。重庆《大公报》用特大号字体的标题，记录下中华民族扬眉吐气的时刻，宣告着中华民族由近代以来陷入深重危机走向伟大复兴的历史转折。从“八年烽火起芦沟”到“', 'url': 'http://opinion.people.com.cn/n1/2019/0815/c1003-31296982.html', 'urlToImage': None, 'publishedAt': '2019-08-15T01:11:00Z', 'content': None}, {'source': {'id': None, 'name': 'Qstheory.cn'}, 'author': None, 'title': '勇担新时代赋予的使命任务 - www.qstheory.cn', 'description': None, 'url': 'http://www.qstheory.cn/zdwz/2019-08/15/c_1124877403.htm', 'urlToImage': None, 'publishedAt': '2019-08-15T01:03:11Z', 'content': ''}, {'source': {'id': None, 'name': 'Jrj.com.cn'}, 'author': None, 'title': '擒牛猎庄：底部是磨出来的，不是想出来的！ - 金融界', 'description': '2、本内参坚持基本面+技术面共振决策，及时给出个股操作建议，助您把握抄底机会，收割上涨主升浪。4、内参本着“授人以鱼不如授人以渔”的服务理念，在给大家分享优质个股的同时，更教授大家如何挖掘优质个股的方法，让大家学会擒牛抄底策略。', 'url': 'http://stock.jrj.com.cn/invest/2019/08/15090127979603.shtml', 'urlToImage': 'http://img.jrjimg.cn/2019/08/cms_20190815090125758.jpg', 'publishedAt': '2019-08-15T01:01:25Z', 'content': '800\\r\\n1:,\\r\\n , ,,,,,,,,\\r\\n(300324,)(300077,)(002180,)\\r\\n2:,\\r\\n , 408.51/,, PO42.5421.67/, P.C32.5R 395.34/, 10-30/;, 20-30/\\r\\n(603737,)(600529,)(002271,)(300198,)(600585,)\\r\\n1 \\r\\n2 70 \\r\\n 81570\\r\\n3 \\r\\n 81578108NAHB \\r\\n+=\\r\\n(603926,)2.51100%\\r\\n(600784,)100%\\r\\n(601618,)1-7422… [+76 chars]'}, {'source': {'id': None, 'name': 'Sina.com.cn'}, 'author': '人民日报', 'title': '这群孩子说：习爷爷对我们寄予厚望我们要争光 - 新浪网', 'description': '这群孩子说：习爷爷对我们寄予厚望 我们要争光', 'url': 'https://news.sina.com.cn/gov/xlxw/2019-08-15/doc-ihytcern0932243.shtml', 'urlToImage': 'http://n.sinaimg.cn/news/crawl/533/w550h783/20190815/896c-ichcymv3046465.jpg', 'publishedAt': '2019-08-15T00:59:40Z', 'content': None}, {'source': {'id': None, 'name': 'Stockstar.com'}, 'author': None, 'title': '两融“新菜”还未上桌北向资金抢先下筷_证券要闻_财经_证券之星触屏版 - 证券之星', 'description': '从下周一（8月19日）起，沪深两市的两融标的将从950只扩大至1600只。与此同时，东方财富Choice数据显示，截至8月13日，本次扩容所覆盖的两融标的股中，有不少已获北向资金“提前布局”。从持股比例的绝对值看，北向资金此前早已深度介入的多只大消费类股票本次也被新纳入两融标的。', 'url': 'https://wap.stockstar.com/detail/SS2019081500000244', 'urlToImage': None, 'publishedAt': '2019-08-15T00:42:48Z', 'content': '8199501600A813“”\\r\\n8113650173\\r\\n0.84\\r\\n0.68“”0.780.41\\r\\n81310%20.88%11.48%9.82%\\r\\n11.845.7217.5688114125.24104\\r\\nMSCIA'}]}\n"
     ]
    }
   ],
   "source": [
    "import requests\n",
    "api_key = \"539dd5d1a8f54b77bb3f14145427aaf3\"\n",
    "url = 'https://newsapi.org/v2/top-headlines?country=cn&apiKey=' + api_key\n",
    "response = requests.get(url)\n",
    "print(response.json())\n"
   ]
  },
  {
   "cell_type": "code",
   "execution_count": 3,
   "metadata": {
    "scrolled": true
   },
   "outputs": [
    {
     "data": {
      "text/plain": [
       "{'message': 'success',\n",
       " 'data': [{'open_url': '/group/6725204763907981835/',\n",
       "   'group_id': '6725204763907981835',\n",
       "   'image_url': '//p3.pstatp.com/list/240x240/pgc-image/8cdad91d915e42bb8316e2c57719f743',\n",
       "   'title': '李小璐复出宣传新戏，穿芭比粉装嫩过度，全程紧张不安'},\n",
       "  {'open_url': '/group/6725231540474757635/',\n",
       "   'group_id': '6725231540474757635',\n",
       "   'image_url': '//p1.pstatp.com/list/240x240/pgc-image/8107269b054844d99b4504f7040d3c7c',\n",
       "   'title': '吴秀波现身夜总会与朋友聚会到深夜，回国后参加酒会入住千万豪宅'},\n",
       "  {'open_url': '/group/6725040369613931012/',\n",
       "   'group_id': '6725040369613931012',\n",
       "   'image_url': '//p9.pstatp.com/list/240x240/pgc-image/RZ8QAmqCubfKAP',\n",
       "   'title': '王嘉尔是谁？为何港独分子将其列为攻击目标？'},\n",
       "  {'open_url': '/group/6725274250816520708/',\n",
       "   'group_id': '6725274250816520708',\n",
       "   'image_url': '//p9.pstatp.com/list/240x240/pgc-image/RZC6iFIxK8rGJ',\n",
       "   'title': '6名落马官员“摄影家”的“雅贿”史：高档相机满抽屉，还公费制作摄影集'},\n",
       "  {'open_url': '/group/6725066187933221383/',\n",
       "   'group_id': '6725066187933221383',\n",
       "   'image_url': '//p3.pstatp.com/list/240x240/pgc-image/RZ8pTYR92KYHF2',\n",
       "   'title': '又是一个恋情瓜！这个锤硬不硬呢？'},\n",
       "  {'open_url': '/group/6725027186417336840/',\n",
       "   'group_id': '6725027186417336840',\n",
       "   'image_url': '//p3.pstatp.com/list/240x240/pgc-image/RZ8DLNG8tQ7t37',\n",
       "   'title': '香港乱局之际，杨千嬅发布声明否认自己是“港独”'},\n",
       "  {'open_url': '/group/6725213592649482763/',\n",
       "   'group_id': '6725213592649482763',\n",
       "   'image_url': '//p3.pstatp.com/list/240x240/pgc-image/4fd9a1e83df244fa8728d7f05c70124c',\n",
       "   'title': '我军军人保险法律制度体系初步形成'},\n",
       "  {'open_url': '/group/6725228223401034252/',\n",
       "   'group_id': '6725228223401034252',\n",
       "   'image_url': '//p1.pstatp.com/list/240x240/pgc-image/RZBNi9kCeLJpQc',\n",
       "   'title': '台湾“独派”精日组织，今年也去靖国神社“献丑”了'},\n",
       "  {'open_url': '/group/6725262335012766221/',\n",
       "   'group_id': '6725262335012766221',\n",
       "   'image_url': '//p3.pstatp.com/list/240x240/pgc-image/RZBNKqsF4W85yy',\n",
       "   'title': '安徽宁国警方：多人因严重影响防汛抗灾大局被查处'},\n",
       "  {'open_url': '/group/6725274222328807940/',\n",
       "   'group_id': '6725274222328807940',\n",
       "   'image_url': '//p3.pstatp.com/list/240x240/pgc-image/RZC2lUgCwAsQCY',\n",
       "   'title': '暑期剧市场冷热：三个男人火了，影视上市公司有点凉'},\n",
       "  {'open_url': '/group/6725288941064290829/',\n",
       "   'group_id': '6725288941064290829',\n",
       "   'image_url': '//p3.pstatp.com/list/240x240/pgc-image/5f105ba8fa6f4ec1a55ff5518abfcb59',\n",
       "   'title': '开机率低，电视厂商都急了！华为、小米等布局能拯救吗？'},\n",
       "  {'open_url': '/group/6725258925110723075/',\n",
       "   'group_id': '6725258925110723075',\n",
       "   'image_url': '//p1.pstatp.com/list/240x240/pgc-image/RZBrlBQ7fPAHjF',\n",
       "   'title': '“干妈”带走2岁女童谎称会送回 生母报警时其已坐上高铁'},\n",
       "  {'open_url': '/group/6725187931914371592/',\n",
       "   'group_id': '6725187931914371592',\n",
       "   'image_url': '//p1.pstatp.com/list/240x240/pgc-image/5ca8f32e59644ae1a3ab8cb2bf52de3a',\n",
       "   'title': '《陈情令》导演晒主演手写信，烂字错字遭吐槽，与唐国强等差距大'},\n",
       "  {'open_url': '/group/6725285162780721667/',\n",
       "   'group_id': '6725285162780721667',\n",
       "   'image_url': '//p1.pstatp.com/list/240x240/pgc-image/RZCHO212tA5Jey',\n",
       "   'title': '收评：全球市场大跌A股逆势收红 创业板指涨1.24%'},\n",
       "  {'open_url': '/group/1641916941076488/',\n",
       "   'group_id': '1641916941076488',\n",
       "   'image_url': '//p1.pstatp.com/list/240x240/pgc-image/eededbe8394e45dc9df2214ea292a864',\n",
       "   'title': '#今日头条5G频道上线啦# 5G时代万物智联真要变成现实！而云、边、端三体协同将成为最佳解决方案。未来，5G时代终端算力上移、云端算力下沉，将在边缘形成算力融合。目前阿里云的边缘计算正在层层前移，深入每一个计算场景，未来边缘计算将和云计算一样，成为无处不在的基础设施。\\n对了，今日头条已正式上线5G频'},\n",
       "  {'open_url': '/group/6725265925634802180/',\n",
       "   'group_id': '6725265925634802180',\n",
       "   'image_url': '//p3.pstatp.com/list/240x240/pgc-image/RZByb1JAxYC6Ts',\n",
       "   'title': '驻港公署揭批美政客与极端暴力犯罪分子狼狈为奸'},\n",
       "  {'open_url': '/group/6725254487084122628/',\n",
       "   'group_id': '6725254487084122628',\n",
       "   'image_url': '//p3.pstatp.com/list/240x240/pgc-image/RYYISPyFZcGzMi',\n",
       "   'title': '《哪吒之魔童降世》放映延期一个月！同样密钥延期，它能超《流浪地球》吗'},\n",
       "  {'open_url': '/group/6725219486141514252/',\n",
       "   'group_id': '6725219486141514252',\n",
       "   'image_url': '//p1.pstatp.com/list/240x240/pgc-image/e36d7ebef23047d2865f5706b87c9273',\n",
       "   'title': '除了“萨德”反导系统 韩国还要部署新型攻击性武器'}]}"
      ]
     },
     "execution_count": 3,
     "metadata": {},
     "output_type": "execute_result"
    }
   ],
   "source": [
    "import requests\n",
    "requests.get(\"https://www.toutiao.com/api/pc/realtime_news/\").json()"
   ]
  },
  {
   "cell_type": "code",
   "execution_count": 15,
   "metadata": {
    "scrolled": true
   },
   "outputs": [
    {
     "data": {
      "text/plain": [
       "['__bool__',\n",
       " '__class__',\n",
       " '__delattr__',\n",
       " '__dir__',\n",
       " '__doc__',\n",
       " '__eq__',\n",
       " '__format__',\n",
       " '__ge__',\n",
       " '__getattribute__',\n",
       " '__gt__',\n",
       " '__hash__',\n",
       " '__init__',\n",
       " '__init_subclass__',\n",
       " '__le__',\n",
       " '__lt__',\n",
       " '__ne__',\n",
       " '__new__',\n",
       " '__reduce__',\n",
       " '__reduce_ex__',\n",
       " '__repr__',\n",
       " '__setattr__',\n",
       " '__sizeof__',\n",
       " '__str__',\n",
       " '__subclasshook__']"
      ]
     },
     "execution_count": 15,
     "metadata": {},
     "output_type": "execute_result"
    }
   ],
   "source": [
    "import hashlib\n",
    "m = hashlib.md5()\n",
    "dir(m.update(b\"105311\"))\n",
    "\n",
    "# str_1[0: 30].upper()"
   ]
  },
  {
   "cell_type": "code",
   "execution_count": 55,
   "metadata": {},
   "outputs": [
    {
     "name": "stdout",
     "output_type": "stream",
     "text": [
      "dsdsdsdsdxcxdfgfg:      9DBE4B868A052AEB9F96BFD3BB2707\n"
     ]
    },
    {
     "data": {
      "text/plain": [
       "'B8599B9343F82E3BC30984CA4F3FEA'"
      ]
     },
     "execution_count": 55,
     "metadata": {},
     "output_type": "execute_result"
    }
   ],
   "source": [
    "import hashlib\n",
    "\n",
    "username = \"174006051002\"\n",
    "password = \"105311\"\n",
    "school_code = \"10977\"\n",
    "\n",
    "# dsdsdsdsdxcxdfgfg \n",
    "a = hashlib.md5()\n",
    "a.update(password.encode(\"utf-8\"))\n",
    "\n",
    "b = username + str(a.hexdigest())[0: 30].upper() + school_code\n",
    "\n",
    "c = hashlib.md5()\n",
    "c.update(b.encode(\"utf-8\"))\n",
    "\n",
    "dsdsdsdsdxcxdfgfg = c.hexdigest()[0: 30].upper()\n",
    "\n",
    "code = \"4352\".upper()\n",
    "d = hashlib.md5()\n",
    "d.update(code.encode(\"utf-8\"))\n",
    "e = d.hexdigest()[0: 30].upper() + school_code\n",
    "\n",
    "fgfggfdgtyuuyyuuckjg = e[0:30].upper()\n"
   ]
  },
  {
   "cell_type": "code",
   "execution_count": 35,
   "metadata": {},
   "outputs": [
    {
     "data": {
      "text/plain": [
       "'7395B408206ABA0ACF1875C3C582CD'"
      ]
     },
     "execution_count": 35,
     "metadata": {},
     "output_type": "execute_result"
    }
   ],
   "source": [
    "c = hashlib.md5()\n",
    "c.update(b\"1616511561CEC1D7FBB5C6B2959F55749C64F8010977\")\n",
    "c.hexdigest()[0: 30].upper()"
   ]
  },
  {
   "cell_type": "code",
   "execution_count": 1,
   "metadata": {},
   "outputs": [
    {
     "name": "stdout",
     "output_type": "stream",
     "text": [
      "����\u0000\u0010JFIF\u0000\u0001\u0001\u0001\u0000`\u0000`\u0000\u0000��\u0000C\u0000\b\u0006\u0006\u0007\u0006\u0005\b\u0007\u0007\u0007\t\t\b\n",
      "\f",
      "\u0014\r",
      "\f",
      "\u000b",
      "\u000b",
      "\f",
      "\u0019\u0012\u0013\u000f\u0014\u001d",
      "\u001a\u001f\u001e",
      "\u001d",
      "\u001a\u001c",
      "\u001c",
      " $.' \",#\u001c",
      "\u001c",
      "(7),01444\u001f'9=82<.342��\u0000C\u0001\t\t\t\f",
      "\u000b",
      "\f",
      "\u0018\r",
      "\r",
      "\u00182!\u001c",
      "!22222222222222222222222222222222222222222222222222��\u0000\u0011\b\u00006\u0000z\u0003\u0001\"\u0000\u0002\u0011\u0001\u0003\u0011\u0001��\u0000\u001f\u0000\u0000\u0001\u0005\u0001\u0001\u0001\u0001\u0001\u0001\u0000\u0000\u0000\u0000\u0000\u0000\u0000\u0000\u0001\u0002\u0003\u0004\u0005\u0006\u0007\b\t\n",
      "\u000b",
      "��\u0000�\u0010\u0000\u0002\u0001\u0003\u0003\u0002\u0004\u0003\u0005\u0005\u0004\u0004\u0000\u0000\u0001}\u0001\u0002\u0003\u0000\u0004\u0011\u0005\u0012!1A\u0006\u0013Qa\u0007\"q\u00142���\b#B绷\u0015R佯$3br�\t\n",
      "\u0016\u0017\u0018\u0019\u001a%&'()*456789:CDEFGHIJSTUVWXYZcdefghijstuvwxyz������������������￥ウЖ┆渤吹斗腹郝媚牌侨墒矣哉肿刭卺忏溴骁栝犟蝮趱鲼�����\u0000\u001f\u0001\u0000\u0003\u0001\u0001\u0001\u0001\u0001\u0001\u0001\u0001\u0001\u0000\u0000\u0000\u0000\u0000\u0000\u0001\u0002\u0003\u0004\u0005\u0006\u0007\b\t\n",
      "\u000b",
      "��\u0000�\u0011\u0000\u0002\u0001\u0002\u0004\u0004\u0003\u0004\u0007\u0005\u0004\u0004\u0000\u0001\u0002w\u0000\u0001\u0002\u0003\u0011\u0004\u0005!1\u0006\u0012AQ\u0007aq\u0013\"2�\b\u0014B�”�\t#3R�\u0015br�\n",
      "\u0016$4�%�\u0017\u0018\u0019\u001a&'()*56789:CDEFGHIJSTUVWXYZcdefghijstuvwxyz�������������������￥ウЖ┆渤吹斗腹郝媚牌侨墒矣哉肿刭阝沅彐玷殛蝮趱鲼�����\u0000\f",
      "\u0003\u0001\u0000\u0002\u0011\u0003\u0011\u0000?\u0000�]\u000fA���zm髓VW3\u001b\u0018�#煅���\u0003瞻2OrG^Mi'�4&y\u0001瘙��\u001b\u0001��,8�9\u0018\u001d",
      "9#�\u001c",
      "��\u0004访霭�xSH2'�t剽\u0012)*戡��+\f",
      "\u0015�\u0007B:\u000fAY\u0017�\u0012tk\u000b",
      "��9m���J�1X�\u0004� 沔榕k�I�\u0012�x\tb`�\u001a|�-t/`i\u0016v�=���>�\u000b",
      "!颉�;取Ur�\u0019F�3�\u0010��f�J写+�f羹捎���c\f",
      "�a�\u0011ｃ\u00058$��G�\u001c",
      "谤J�<_\u0013�?o\n",
      "C\r",
      "��qF�Q\u0012\u0018陋�\u0000\u0000?\u0002�\r",
      "+U蛹a�M$pL-木[,�V\f",
      "�X2�$�\t\u0004\u0010A\u0004dc\u0015r�KUc��WV�9暌诧d6]#滦�W掖�|��庹\bI\u0018\u0002��\u000f���3��Q��l�3��\u000fM�\u0000�H�\u0000炉�n���9�`�?-��T�9�\u0018扇8 �8\u001c",
      "\u000es5d遒�.�>�G#?�t�&祷���#2膀�4��\u001b9t��S\u0018U�?���1$\u0000i�g\r",
      "��qu�=*Hc��\u0013�d� \u0000\u0012\u001d",
      "碥����y��p��秸\u0014�&蓊�\u0000��R�M互�~G\u0016�_�跗�凫-,&�U愠��Z�g\r",
      "�\u0010pYJ�2�\u0000�\u0010�\u0000���#�\u001d",
      "滋�\u001c",
      "�Im�6���c\u0004t-�\u00048嘏��g\u0000�`v汴\u001e",
      "1�5\u001f\u0012冕�J引$K�,�<*`��U\u0003���K+/\u001d",
      "v7\u0000V��k��wH冈��\u0000R��\u0005�[Le\u0000\u0012\u0000D�M穴�P0�\u001d",
      "2\u0006jV\"脞骄V:�e酴�\u0010�=e��叨鞴v/\u000b",
      "hQ���F�+*�d{H�9\u001d",
      "�\u0014\f",
      "�`\u00056缏:\u0005�K\u001f�M�X�$�\u0015�jN�\r",
      "�龛q�;�Es\u001e",
      "\u0019�\u001e",
      "��[�锃�怅抑dr�m��宀��>0�\u001c",
      "��\r",
      "�>�\u0019=Bk�eＨo�m&Y\u001bt��1\u0012�`\u0001���荻��bp?� (�����k嶂\u001e",
      "＇V<�[�郡Ak¤�\u0012�o彷\u001d",
      "\f",
      "?$�c�錾�\u0018\u0005落�9宥�\u0001��\u0006�\u000f\f",
      "h�s\u0013�iF\"�*�$�\u001b��{�����\u001e",
      "Nx业e��$�沩\u0011��\u0012\\�\u0005X�`�\u0000�\b\u0000�\u0001�O4}�?饼�t�_�孱�[~1�����\u0000k9����w��gM�\u0015�\u0019\u0007铭+]���i�\u0012��\\� �m\f",
      "\u00181�W�N熊伴但�|C\u0014px�U�$X�K��\u0011\u0006\u0002��\u0000\u0007a_I淄�!�a�.�\u0012\u0017*��(.遑�绔\u0012I>滏��钯沌\u0011��\u001e",
      "UmO~鹣���?�x��\u0000�\n",
      "�M\u0007F�W�]&龄v,沃�K\u0013���ME���\u00154����\u0000@\u0015�x�\u0000胚�V�L赢v�\u0012阃d�\n",
      "\u0011胭�\u0018�\u0006O\u001c",
      "\u001a�E�vG�e�+W�)Qvm/换9}ya�7�\u0017E疝�`�D苘[陋\u001c",
      "�\u0000\u00133\u0001�\f",
      "���y��艨\u000fh6�\u001d",
      "�R戚�雾蛉�]�\u0000�v\u001c",
      "\u0001�n��灭W�Ｐb[脲W暂x\u001d",
      "D\u0000�\u001e",
      "��\u0001�I�j�牺�v=,�\u001d",
      "\u0019%��+��^锝��\u0000^F~��>�n']2��?�Y⒒/ \u000f��'�`z\u001c",
      "夤Ko��=砺圳��捏>v�\u0014\b特\u00198\u0001笮\u001a铍��\u0000��?�\u001d",
      "�\u0000邗�6宅\u0019V\u0016�&3U#�U�s��\u0000�hh��\u001fc敬贼�\u0007�7V�vq��\u0004�<v�;W[c}k�YC{e2�o2�I\u0017�\u001f婿 �\u000f\u0015�|a�?�#�\u001b集待��y讫�\u001bv;�;3�\u0000\u0001霆�\u0000\u0006愫\u001av�+��#K\u001a�\u000b",
      "q�\u0003�\u0003绷N{耖B�驽aW\u0005Bx\u000f�蛹Z易�z�B�\u001e",
      "\u0017]GI\u001a宕l��J\u0016P\t;∩�\u0018<�9�\u001c",
      "n�p+�渣O�x�t]\u0004\u0005i�\u000f4��\u001e",
      "l稗q�\u0014!\u0004�\u000eK�`\f",
      "z�\u0000�|H�\u0016痨��E�喟��7沃��惆\u0000�倨23^\u000fk�长�������o�i7�褡\u0005�7\u0019\r",
      "�\u001d",
      "y阢�y��F��}息狺z�D�E^\r",
      "�m�koE�l}\u0013ｉ6�\u0016�o��\u0006\u0016�.\u0017{e�$�I�$�橄\u0018н^Ie\u001f��77J\u0001f\u0016�\t\\{3\u0002I�\u0006zT:\u0016�\u000e健訇�\r",
      "�q\u001e",
      "饧��8e�\u00038`Fq�+F�%g\u0015吮�\u0015�Ok%W饣谨�_泥��Y崆�\u0004�~��-��搪� �bA�uG��r~`q�F*��\u0000�mm\u0011侦�m.\u0014,�/-��\u00100�\u0014\u0003��wm�\u0017 d�\u0011�\u00005\u001f���\u0000�Z��钜撖�K[��X$\u001b]\u001b��\u0000_叩p徵V���M>�*Z4�\u0016阪\u000b",
      "�t傅�9�~VH�2沸�\r",
      "|殁o�\u001a������\u0000C5�h涵���Q<\u0006M�\t�\\F���吨�8�\u001e",
      "A����?�o�\u001a������\u0000C5�e��Z�YＨ艇�N>Ы�g�EM\u001f��a�\u0000�\u0005y叮��\u0000\u0014�Ow�X��\u0000穗�\u0004�t_�,�\u0005��\u0011^����\u00154����\u0000@\u0015�Z疲�����3\n",
      "�(��O�$��\u0000\u000e�4�\u0000���~�[�\u0015�\u0000�躯R_�H阌�;?札���瓜M拚籽I院���[3龃�=�\u0015�ㄙ��\n",
      "��\u0000�\u0007�\u0017�-E�p�$r�E��s\u001a�a��$缱�骰��KvkX��a��,�5<��\n",
      "�q�萍衬\u001f\u000e<I�\r",
      "v�T�}*\u0016��#Y�!@\u0001@挝N\u0000甚�:W=D谛槿�S�ZS�$�V�WC�����{w\u001d",
      "巍�k\u0017��\u0018构\u000f�A我v�\u001c",
      "��u5药尹9�An�Uガx�\u0018�VnHU\u001d",
      "]�<\f",
      "�>Α��X��\u000b",
      "�\u000b",
      "g�m�\u0018���\u001d",
      "�rX�\u000f-\u00063���d�5�+)\u0016c{z洒��~C��:�L鲟e�\u000b",
      "\u0010\t�\n",
      "��\u0000�yX�Uz����o火畜�\u001c",
      "�>,���e\u0014z4V�v�\t+�!?>��寥�\u0000\u0010��\u001b\u0005�+�\"瘙��\u001d",
      "M\n",
      "X阪�a\u0010��r炖z�歉�1��`cR����d寤gE\\频J\u0014�/v4龅黝踹役�yw��7獐\b��H�-��@�b�u��\u0011�\u001f价�蟥\u0003?/8 u\u0006�F��v�aco\u001c",
      "rK普��)绻\u0000泸�N�が�'\u001d",
      "��2j�D��底_7����淆\u0017品�o��W�E1��6�;�;���壮W��^\u0007�u�^�P�]:6��\"如h\u0000\u00003���?�占��2复\u0016�揲P���s\b��\u0003�\u000e\u0000���{c�\u001e",
      "\u001d",
      "N�孳^�O捏沼g�x�8�|]\u001d",
      "�e�`�#C�7\u00006\u0007s�?^z婀=Z\u0019����nd�'��D��\u0013��\u0010NO'&阶镁\f",
      "毙$�O��7�*%u\u0000'_航�\u001c",
      "\u0013��d��?\u0013茸�佐啁\u0019�於��)�{����菩��=\u0017G�＂i�%��逗�Iom\u001c",
      "NR4 �P\u000e>~�U啉[�\u0007��j_黝?�.�+��74�&��W\u000f�[�\u0007��j_黝?�.��[�\u0007��j_黝?�.�)rD楷疹\u001f鸱4\u000f�粼匡��]g]|J翌.\u001e",
      "X稂Cl��E\u0015健U愣�O�'�\u0014Rt饽�\u0015\u001fR�|M�\u001aE�Q��\"�Cy�F�(楞1�\u001a��O菹=��猬�\u00170�\u001b�\u0014�W沂�=�\"溧{帻(�パ�_�Y��Q/��?�l昃L^d\u0016涛�&Xb14g��vg\u0004�;�\u001c",
      "c��[�\u0016;��\u0000\u001f逗��>琰M鞠纷�DI��{8�\u0018缮ErIY蒯�2�v骓�\u001a�7�-&�|\u001f��.�jr��dl�\u0003������灭��\u0000���夕��\u0000~��\u0000忤⒑h�8�vP胖�5�\u000f�[�\u0007��j_黝?�.��[�\u0007��j_黝?�.�+^H��f�p�\u0000���夕��\u0000~��\u0000怆�u�弱\r",
      "n�� �\u001d",
      "盘��q�\u00031#>��EmJ)=\u000f?0�9�)3��\r\n",
      "<!DOCTYPE HTML PUBLIC \"-//W3C//DTD HTML 4.0 Transitional//EN\" > \r\n",
      "\r\n",
      "<html>\r\n",
      "  <head>\r\n",
      "    <title>ValidateCode</title>\r\n",
      "    <meta name=\"GENERATOR\" Content=\"Microsoft Visual Studio .NET 7.1\">\r\n",
      "    <meta name=\"CODE_LANGUAGE\" Content=\"C#\">\r\n",
      "    <meta name=vs_defaultClientScript content=\"JavaScript\">\r\n",
      "    <meta name=vs_targetSchema content=\"http://schemas.microsoft.com/intellisense/ie5\">\r\n",
      "  </head>\r\n",
      "  <body MS_POSITIONING=\"GridLayout\">\r\n",
      "\t\r\n",
      "    <form name=\"Form1\" method=\"post\" action=\"ValidateCode.aspx\" id=\"Form1\">\r\n",
      "<input type=\"hidden\" name=\"__VIEWSTATE\" value=\"dDwtNjU0MzcyMTk1Ozs+Xcm/WzTTbrww7zA1s7u66a5a8+Y=\" />\r\n",
      "\r\n",
      "\r\n",
      "     </form>\r\n",
      "\t\r\n",
      "  </body>\r\n",
      "</html>\r\n",
      "\n"
     ]
    }
   ],
   "source": [
    "import requests\n",
    "import re\n",
    "from lxml import etree\n",
    "\n",
    "url = \"http://jwgl.lpssy.edu.cn/Jwweb/_data/login_home.aspx\"\n",
    "# response = requests.get(url)\n",
    "s = requests.Session()\n",
    "response = s.get(url)\n",
    "tree = etree.HTML(response.text)\n",
    "view_state_node = tree.xpath(\"//input[@name='__VIEWSTATE']\")[0]\n",
    "view_state = view_state_node.values()[2]\n",
    "image_response = s.get(\"http://jwgl.lpssy.edu.cn/Jwweb/sys/ValidateCode.aspx\")\n",
    "print(image_response.text)\n"
   ]
  },
  {
   "cell_type": "code",
   "execution_count": 9,
   "metadata": {},
   "outputs": [
    {
     "ename": "OSError",
     "evalue": "cannot identify image file <_io.BytesIO object at 0x00000257786D2A40>",
     "output_type": "error",
     "traceback": [
      "\u001b[1;31m---------------------------------------------------------------------------\u001b[0m",
      "\u001b[1;31mOSError\u001b[0m                                   Traceback (most recent call last)",
      "\u001b[1;32m<ipython-input-9-d07c0c91d186>\u001b[0m in \u001b[0;36m<module>\u001b[1;34m()\u001b[0m\n\u001b[0;32m      3\u001b[0m \u001b[1;32mfrom\u001b[0m \u001b[0mPIL\u001b[0m \u001b[1;32mimport\u001b[0m \u001b[0mImage\u001b[0m\u001b[1;33m\u001b[0m\u001b[0m\n\u001b[0;32m      4\u001b[0m \u001b[1;32mimport\u001b[0m \u001b[0mio\u001b[0m\u001b[1;33m\u001b[0m\u001b[0m\n\u001b[1;32m----> 5\u001b[1;33m \u001b[0mImage\u001b[0m\u001b[1;33m.\u001b[0m\u001b[0mopen\u001b[0m\u001b[1;33m(\u001b[0m\u001b[0mio\u001b[0m\u001b[1;33m.\u001b[0m\u001b[0mBytesIO\u001b[0m\u001b[1;33m(\u001b[0m\u001b[0mbytes\u001b[0m\u001b[1;33m(\u001b[0m\u001b[0mre\u001b[0m\u001b[1;33m.\u001b[0m\u001b[0mfindall\u001b[0m\u001b[1;33m(\u001b[0m\u001b[1;34mr\"<.*>\"\u001b[0m\u001b[1;33m,\u001b[0m \u001b[0mimage_response\u001b[0m\u001b[1;33m.\u001b[0m\u001b[0mtext\u001b[0m\u001b[1;33m)\u001b[0m\u001b[1;33m[\u001b[0m\u001b[1;36m0\u001b[0m\u001b[1;33m]\u001b[0m\u001b[1;33m,\u001b[0m \u001b[0mencoding\u001b[0m\u001b[1;33m=\u001b[0m\u001b[1;34m\"utf-8\"\u001b[0m\u001b[1;33m)\u001b[0m\u001b[1;33m)\u001b[0m\u001b[1;33m)\u001b[0m\u001b[1;33m.\u001b[0m\u001b[0mshow\u001b[0m\u001b[1;33m\u001b[0m\u001b[0m\n\u001b[0m",
      "\u001b[1;32mE:\\Anaconda3\\lib\\site-packages\\PIL\\Image.py\u001b[0m in \u001b[0;36mopen\u001b[1;34m(fp, mode)\u001b[0m\n\u001b[0;32m   2820\u001b[0m     \u001b[1;32mfor\u001b[0m \u001b[0mmessage\u001b[0m \u001b[1;32min\u001b[0m \u001b[0maccept_warnings\u001b[0m\u001b[1;33m:\u001b[0m\u001b[1;33m\u001b[0m\u001b[0m\n\u001b[0;32m   2821\u001b[0m         \u001b[0mwarnings\u001b[0m\u001b[1;33m.\u001b[0m\u001b[0mwarn\u001b[0m\u001b[1;33m(\u001b[0m\u001b[0mmessage\u001b[0m\u001b[1;33m)\u001b[0m\u001b[1;33m\u001b[0m\u001b[0m\n\u001b[1;32m-> 2822\u001b[1;33m     \u001b[1;32mraise\u001b[0m \u001b[0mIOError\u001b[0m\u001b[1;33m(\u001b[0m\u001b[1;34m\"cannot identify image file %r\"\u001b[0m \u001b[1;33m%\u001b[0m \u001b[1;33m(\u001b[0m\u001b[0mfilename\u001b[0m \u001b[1;32mif\u001b[0m \u001b[0mfilename\u001b[0m \u001b[1;32melse\u001b[0m \u001b[0mfp\u001b[0m\u001b[1;33m)\u001b[0m\u001b[1;33m)\u001b[0m\u001b[1;33m\u001b[0m\u001b[0m\n\u001b[0m\u001b[0;32m   2823\u001b[0m \u001b[1;33m\u001b[0m\u001b[0m\n\u001b[0;32m   2824\u001b[0m \u001b[1;33m\u001b[0m\u001b[0m\n",
      "\u001b[1;31mOSError\u001b[0m: cannot identify image file <_io.BytesIO object at 0x00000257786D2A40>"
     ]
    }
   ],
   "source": [
    "\n",
    "\n",
    "from PIL import Image\n",
    "import io\n",
    "Image.open(io.BytesIO(bytes(re.findall(r\"<.*>\", image_response.text)[0], encoding=\"utf-8\"))).show"
   ]
  },
  {
   "cell_type": "code",
   "execution_count": 6,
   "metadata": {},
   "outputs": [
    {
     "data": {
      "text/plain": [
       "1566054810.19703"
      ]
     },
     "execution_count": 6,
     "metadata": {},
     "output_type": "execute_result"
    }
   ],
   "source": [
    "import time\n",
    "time.time()"
   ]
  },
  {
   "cell_type": "code",
   "execution_count": 2,
   "metadata": {},
   "outputs": [],
   "source": [
    "from demo import base_log\n",
    "base_log(message=\"你好，这是一个标准输出\")"
   ]
  },
  {
   "cell_type": "code",
   "execution_count": 29,
   "metadata": {},
   "outputs": [
    {
     "data": {
      "text/plain": [
       "{'username': 'bimo量', 'last_login_time': 1566566691}"
      ]
     },
     "execution_count": 29,
     "metadata": {},
     "output_type": "execute_result"
    }
   ],
   "source": [
    "import time\n",
    "import base64\n",
    "import hmac\n",
    "import json\n",
    "# token 有效时间 3 hour\n",
    "# username 用户名信息数据输入\n",
    "# key 值 用于加密和解密 【hmac】\n",
    "username = \"bimo量\"\n",
    "last_login_time = int(time.time())\n",
    "active_time = last_login_time + 3600\n",
    "message = {\n",
    "    \"username\": username,\n",
    "    \"last_login_time\": last_login_time\n",
    "}\n",
    "enpassword = base64.b64encode(str(message).encode(\"utf-8\"))\n",
    "json.loads(str(base64.b64decode(enpassword), \"utf-8\").replace(\"\\'\", \"\\\"\"))"
   ]
  },
  {
   "cell_type": "code",
   "execution_count": 12,
   "metadata": {},
   "outputs": [
    {
     "data": {
      "text/plain": [
       "'0a1c30cc603d3bb30709b3a68796ab95ce15aeb0'"
      ]
     },
     "execution_count": 12,
     "metadata": {},
     "output_type": "execute_result"
    }
   ],
   "source": [
    "sha1_tshexstr"
   ]
  },
  {
   "cell_type": "code",
   "execution_count": 37,
   "metadata": {},
   "outputs": [],
   "source": [
    "## token 设定 【use by bimo】\n",
    "# 用户名\n",
    "# 上一次登陆时间\n",
    "\"\"\"\n",
    "    token  -->  header = {\n",
    "                    # base64 加密\n",
    "                    \"alg\": \"HS256\"\n",
    "                }\n",
    "                payload = {\n",
    "                    # 发行者\n",
    "                    \"iss\": \"bimo\"\n",
    "                    # sub 主题\n",
    "                    # iat 发行时间\n",
    "                    \"iat\": int(time.time())，\n",
    "                    # exp 截止时间\n",
    "                    \"exp\": int(time.time()) + 3600\n",
    "                }\n",
    "\n",
    "\"\"\"\n",
    "import time, base64, json, hashlib\n",
    "\n",
    "def get_token(username):\n",
    "    message = {\n",
    "        \"username\": username,\n",
    "        \"last_login_time\": int(time.time())\n",
    "    }\n",
    "    \n",
    "    return base64.b64encode(str(message).encode(\"utf-8\"))\n",
    "\n",
    "def analyse_token(token):\n",
    "    return json.loads(str(base64.b64decode(token), \"utf-8\").replace(\"\\'\", \"\\\"\"))"
   ]
  },
  {
   "cell_type": "code",
   "execution_count": 36,
   "metadata": {},
   "outputs": [],
   "source": [
    "get_token(\"1234564654\")"
   ]
  },
  {
   "cell_type": "code",
   "execution_count": 32,
   "metadata": {},
   "outputs": [
    {
     "data": {
      "text/plain": [
       "{'username': '1234564654', 'last_login_time': 1566568143}"
      ]
     },
     "execution_count": 32,
     "metadata": {},
     "output_type": "execute_result"
    }
   ],
   "source": [
    "analyse_token(\"eyd1c2VybmFtZSc6ICcxMjM0NTY0NjU0JywgJ2xhc3RfbG9naW5fdGltZSc6IDE1NjY1NjgxNDN9\")"
   ]
  },
  {
   "cell_type": "code",
   "execution_count": 6,
   "metadata": {},
   "outputs": [
    {
     "data": {
      "text/plain": [
       "'2e74051c2eca0c25e43ae8abc8b5b488'"
      ]
     },
     "execution_count": 6,
     "metadata": {},
     "output_type": "execute_result"
    }
   ],
   "source": [
    "import base64, time, hmac\n",
    "header = {\n",
    "    \"alg\": \"HS256\"\n",
    "}\n",
    "b_header = base64.b64encode(str(header).encode(\"utf-8\"))\n",
    "payload = {\n",
    "    \"iss\": \"笔墨\",\n",
    "    \"iat\": int(time.time())\n",
    "}\n",
    "b_pay_load = base64.b64encode(str(payload).encode(\"utf-8\"))\n",
    "key = b\"sdjfiodgjreiojfioajfioiogjroeajfo\"\n",
    "code = hmac.new(key, b_header + b\".\" + b_pay_load, digestmod=\"MD5\")\n",
    "code.hexdigest()"
   ]
  },
  {
   "cell_type": "code",
   "execution_count": null,
   "metadata": {},
   "outputs": [],
   "source": []
  }
 ],
 "metadata": {
  "kernelspec": {
   "display_name": "Python 3",
   "language": "python",
   "name": "python3"
  },
  "language_info": {
   "codemirror_mode": {
    "name": "ipython",
    "version": 3
   },
   "file_extension": ".py",
   "mimetype": "text/x-python",
   "name": "python",
   "nbconvert_exporter": "python",
   "pygments_lexer": "ipython3",
   "version": "3.6.5"
  }
 },
 "nbformat": 4,
 "nbformat_minor": 2
}
